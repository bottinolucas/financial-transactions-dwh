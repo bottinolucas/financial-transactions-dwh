{
 "cells": [
  {
   "cell_type": "code",
   "execution_count": 1,
   "id": "4629c0c8",
   "metadata": {},
   "outputs": [],
   "source": [
    "import pandas as pd \n",
    "import numpy as np\n",
    "import seaborn as sns\n",
    "import matplotlib.pyplot as plt \n",
    "import duckdb\n",
    "import os"
   ]
  },
  {
   "cell_type": "code",
   "execution_count": 2,
   "id": "4b191bbc",
   "metadata": {},
   "outputs": [],
   "source": [
    "from pathlib import Path\n",
    "\n",
    "data_path = Path(\"../raw/\")\n",
    "\n",
    "# Leitura dos arquivos CSV\n",
    "df_transactions = pd.read_csv(f\"{data_path}/transactions_data.csv\")\n",
    "df_cards = pd.read_csv(f\"{data_path}/cards_data.csv\")\n",
    "df_users = pd.read_csv(f\"{data_path}/users_data.csv\")\n",
    "df_mcc = pd.read_json(f\"{data_path}/mcc_codes.json\", orient='index')\n",
    "df_fraud_labels = pd.read_json(f\"{data_path}/train_fraud_labels.json\")"
   ]
  },
  {
   "cell_type": "code",
   "execution_count": 3,
   "id": "d1727438",
   "metadata": {},
   "outputs": [
    {
     "data": {
      "text/plain": [
       "<Figure size 1200x600 with 0 Axes>"
      ]
     },
     "execution_count": 3,
     "metadata": {},
     "output_type": "execute_result"
    },
    {
     "data": {
      "text/plain": [
       "<Figure size 1200x600 with 0 Axes>"
      ]
     },
     "metadata": {},
     "output_type": "display_data"
    }
   ],
   "source": [
    "# Configuracao para melhor visualizacao dos graficos \n",
    "sns.set_theme(style='whitegrid')\n",
    "plt.figure(figsize=(12, 6))"
   ]
  },
  {
   "cell_type": "markdown",
   "id": "f3a3e360",
   "metadata": {},
   "source": [
    "## Análise da planilha transactions_data.csv"
   ]
  },
  {
   "cell_type": "code",
   "execution_count": 4,
   "id": "c14a6ce7",
   "metadata": {},
   "outputs": [
    {
     "data": {
      "text/html": [
       "<div>\n",
       "<style scoped>\n",
       "    .dataframe tbody tr th:only-of-type {\n",
       "        vertical-align: middle;\n",
       "    }\n",
       "\n",
       "    .dataframe tbody tr th {\n",
       "        vertical-align: top;\n",
       "    }\n",
       "\n",
       "    .dataframe thead th {\n",
       "        text-align: right;\n",
       "    }\n",
       "</style>\n",
       "<table border=\"1\" class=\"dataframe\">\n",
       "  <thead>\n",
       "    <tr style=\"text-align: right;\">\n",
       "      <th></th>\n",
       "      <th>id</th>\n",
       "      <th>client_id</th>\n",
       "      <th>card_id</th>\n",
       "      <th>merchant_id</th>\n",
       "      <th>zip</th>\n",
       "      <th>mcc</th>\n",
       "    </tr>\n",
       "  </thead>\n",
       "  <tbody>\n",
       "    <tr>\n",
       "      <th>count</th>\n",
       "      <td>1.330592e+07</td>\n",
       "      <td>1.330592e+07</td>\n",
       "      <td>1.330592e+07</td>\n",
       "      <td>1.330592e+07</td>\n",
       "      <td>1.165321e+07</td>\n",
       "      <td>1.330592e+07</td>\n",
       "    </tr>\n",
       "    <tr>\n",
       "      <th>mean</th>\n",
       "      <td>1.558402e+07</td>\n",
       "      <td>1.026812e+03</td>\n",
       "      <td>3.475268e+03</td>\n",
       "      <td>4.772376e+04</td>\n",
       "      <td>5.132782e+04</td>\n",
       "      <td>5.565440e+03</td>\n",
       "    </tr>\n",
       "    <tr>\n",
       "      <th>std</th>\n",
       "      <td>4.704499e+06</td>\n",
       "      <td>5.816386e+02</td>\n",
       "      <td>1.674356e+03</td>\n",
       "      <td>2.581534e+04</td>\n",
       "      <td>2.940423e+04</td>\n",
       "      <td>8.757002e+02</td>\n",
       "    </tr>\n",
       "    <tr>\n",
       "      <th>min</th>\n",
       "      <td>7.475327e+06</td>\n",
       "      <td>0.000000e+00</td>\n",
       "      <td>0.000000e+00</td>\n",
       "      <td>1.000000e+00</td>\n",
       "      <td>1.001000e+03</td>\n",
       "      <td>1.711000e+03</td>\n",
       "    </tr>\n",
       "    <tr>\n",
       "      <th>25%</th>\n",
       "      <td>1.150604e+07</td>\n",
       "      <td>5.190000e+02</td>\n",
       "      <td>2.413000e+03</td>\n",
       "      <td>2.588700e+04</td>\n",
       "      <td>2.860200e+04</td>\n",
       "      <td>5.300000e+03</td>\n",
       "    </tr>\n",
       "    <tr>\n",
       "      <th>50%</th>\n",
       "      <td>1.557087e+07</td>\n",
       "      <td>1.070000e+03</td>\n",
       "      <td>3.584000e+03</td>\n",
       "      <td>4.592600e+04</td>\n",
       "      <td>4.767000e+04</td>\n",
       "      <td>5.499000e+03</td>\n",
       "    </tr>\n",
       "    <tr>\n",
       "      <th>75%</th>\n",
       "      <td>1.965361e+07</td>\n",
       "      <td>1.531000e+03</td>\n",
       "      <td>4.901000e+03</td>\n",
       "      <td>6.757000e+04</td>\n",
       "      <td>7.790100e+04</td>\n",
       "      <td>5.812000e+03</td>\n",
       "    </tr>\n",
       "    <tr>\n",
       "      <th>max</th>\n",
       "      <td>2.376187e+07</td>\n",
       "      <td>1.998000e+03</td>\n",
       "      <td>6.144000e+03</td>\n",
       "      <td>1.003420e+05</td>\n",
       "      <td>9.992800e+04</td>\n",
       "      <td>9.402000e+03</td>\n",
       "    </tr>\n",
       "  </tbody>\n",
       "</table>\n",
       "</div>"
      ],
      "text/plain": [
       "                 id     client_id       card_id   merchant_id           zip  \\\n",
       "count  1.330592e+07  1.330592e+07  1.330592e+07  1.330592e+07  1.165321e+07   \n",
       "mean   1.558402e+07  1.026812e+03  3.475268e+03  4.772376e+04  5.132782e+04   \n",
       "std    4.704499e+06  5.816386e+02  1.674356e+03  2.581534e+04  2.940423e+04   \n",
       "min    7.475327e+06  0.000000e+00  0.000000e+00  1.000000e+00  1.001000e+03   \n",
       "25%    1.150604e+07  5.190000e+02  2.413000e+03  2.588700e+04  2.860200e+04   \n",
       "50%    1.557087e+07  1.070000e+03  3.584000e+03  4.592600e+04  4.767000e+04   \n",
       "75%    1.965361e+07  1.531000e+03  4.901000e+03  6.757000e+04  7.790100e+04   \n",
       "max    2.376187e+07  1.998000e+03  6.144000e+03  1.003420e+05  9.992800e+04   \n",
       "\n",
       "                mcc  \n",
       "count  1.330592e+07  \n",
       "mean   5.565440e+03  \n",
       "std    8.757002e+02  \n",
       "min    1.711000e+03  \n",
       "25%    5.300000e+03  \n",
       "50%    5.499000e+03  \n",
       "75%    5.812000e+03  \n",
       "max    9.402000e+03  "
      ]
     },
     "execution_count": 4,
     "metadata": {},
     "output_type": "execute_result"
    }
   ],
   "source": [
    "df_transactions.describe()"
   ]
  },
  {
   "cell_type": "code",
   "execution_count": 5,
   "id": "68d22603",
   "metadata": {},
   "outputs": [
    {
     "name": "stdout",
     "output_type": "stream",
     "text": [
      "<class 'pandas.core.frame.DataFrame'>\n",
      "RangeIndex: 13305915 entries, 0 to 13305914\n",
      "Data columns (total 12 columns):\n",
      " #   Column          Dtype  \n",
      "---  ------          -----  \n",
      " 0   id              int64  \n",
      " 1   date            object \n",
      " 2   client_id       int64  \n",
      " 3   card_id         int64  \n",
      " 4   amount          object \n",
      " 5   use_chip        object \n",
      " 6   merchant_id     int64  \n",
      " 7   merchant_city   object \n",
      " 8   merchant_state  object \n",
      " 9   zip             float64\n",
      " 10  mcc             int64  \n",
      " 11  errors          object \n",
      "dtypes: float64(1), int64(5), object(6)\n",
      "memory usage: 1.2+ GB\n"
     ]
    }
   ],
   "source": [
    "df_transactions.info()"
   ]
  },
  {
   "cell_type": "code",
   "execution_count": 6,
   "id": "37dd51be",
   "metadata": {},
   "outputs": [
    {
     "data": {
      "text/html": [
       "<div>\n",
       "<style scoped>\n",
       "    .dataframe tbody tr th:only-of-type {\n",
       "        vertical-align: middle;\n",
       "    }\n",
       "\n",
       "    .dataframe tbody tr th {\n",
       "        vertical-align: top;\n",
       "    }\n",
       "\n",
       "    .dataframe thead th {\n",
       "        text-align: right;\n",
       "    }\n",
       "</style>\n",
       "<table border=\"1\" class=\"dataframe\">\n",
       "  <thead>\n",
       "    <tr style=\"text-align: right;\">\n",
       "      <th></th>\n",
       "      <th>id</th>\n",
       "      <th>date</th>\n",
       "      <th>client_id</th>\n",
       "      <th>card_id</th>\n",
       "      <th>amount</th>\n",
       "      <th>use_chip</th>\n",
       "      <th>merchant_id</th>\n",
       "      <th>merchant_city</th>\n",
       "      <th>merchant_state</th>\n",
       "      <th>zip</th>\n",
       "      <th>mcc</th>\n",
       "      <th>errors</th>\n",
       "    </tr>\n",
       "  </thead>\n",
       "  <tbody>\n",
       "    <tr>\n",
       "      <th>0</th>\n",
       "      <td>7475327</td>\n",
       "      <td>2010-01-01 00:01:00</td>\n",
       "      <td>1556</td>\n",
       "      <td>2972</td>\n",
       "      <td>$-77.00</td>\n",
       "      <td>Swipe Transaction</td>\n",
       "      <td>59935</td>\n",
       "      <td>Beulah</td>\n",
       "      <td>ND</td>\n",
       "      <td>58523.0</td>\n",
       "      <td>5499</td>\n",
       "      <td>NaN</td>\n",
       "    </tr>\n",
       "    <tr>\n",
       "      <th>1</th>\n",
       "      <td>7475328</td>\n",
       "      <td>2010-01-01 00:02:00</td>\n",
       "      <td>561</td>\n",
       "      <td>4575</td>\n",
       "      <td>$14.57</td>\n",
       "      <td>Swipe Transaction</td>\n",
       "      <td>67570</td>\n",
       "      <td>Bettendorf</td>\n",
       "      <td>IA</td>\n",
       "      <td>52722.0</td>\n",
       "      <td>5311</td>\n",
       "      <td>NaN</td>\n",
       "    </tr>\n",
       "    <tr>\n",
       "      <th>2</th>\n",
       "      <td>7475329</td>\n",
       "      <td>2010-01-01 00:02:00</td>\n",
       "      <td>1129</td>\n",
       "      <td>102</td>\n",
       "      <td>$80.00</td>\n",
       "      <td>Swipe Transaction</td>\n",
       "      <td>27092</td>\n",
       "      <td>Vista</td>\n",
       "      <td>CA</td>\n",
       "      <td>92084.0</td>\n",
       "      <td>4829</td>\n",
       "      <td>NaN</td>\n",
       "    </tr>\n",
       "    <tr>\n",
       "      <th>3</th>\n",
       "      <td>7475331</td>\n",
       "      <td>2010-01-01 00:05:00</td>\n",
       "      <td>430</td>\n",
       "      <td>2860</td>\n",
       "      <td>$200.00</td>\n",
       "      <td>Swipe Transaction</td>\n",
       "      <td>27092</td>\n",
       "      <td>Crown Point</td>\n",
       "      <td>IN</td>\n",
       "      <td>46307.0</td>\n",
       "      <td>4829</td>\n",
       "      <td>NaN</td>\n",
       "    </tr>\n",
       "    <tr>\n",
       "      <th>4</th>\n",
       "      <td>7475332</td>\n",
       "      <td>2010-01-01 00:06:00</td>\n",
       "      <td>848</td>\n",
       "      <td>3915</td>\n",
       "      <td>$46.41</td>\n",
       "      <td>Swipe Transaction</td>\n",
       "      <td>13051</td>\n",
       "      <td>Harwood</td>\n",
       "      <td>MD</td>\n",
       "      <td>20776.0</td>\n",
       "      <td>5813</td>\n",
       "      <td>NaN</td>\n",
       "    </tr>\n",
       "  </tbody>\n",
       "</table>\n",
       "</div>"
      ],
      "text/plain": [
       "        id                 date  client_id  card_id   amount  \\\n",
       "0  7475327  2010-01-01 00:01:00       1556     2972  $-77.00   \n",
       "1  7475328  2010-01-01 00:02:00        561     4575   $14.57   \n",
       "2  7475329  2010-01-01 00:02:00       1129      102   $80.00   \n",
       "3  7475331  2010-01-01 00:05:00        430     2860  $200.00   \n",
       "4  7475332  2010-01-01 00:06:00        848     3915   $46.41   \n",
       "\n",
       "            use_chip  merchant_id merchant_city merchant_state      zip   mcc  \\\n",
       "0  Swipe Transaction        59935        Beulah             ND  58523.0  5499   \n",
       "1  Swipe Transaction        67570    Bettendorf             IA  52722.0  5311   \n",
       "2  Swipe Transaction        27092         Vista             CA  92084.0  4829   \n",
       "3  Swipe Transaction        27092   Crown Point             IN  46307.0  4829   \n",
       "4  Swipe Transaction        13051       Harwood             MD  20776.0  5813   \n",
       "\n",
       "  errors  \n",
       "0    NaN  \n",
       "1    NaN  \n",
       "2    NaN  \n",
       "3    NaN  \n",
       "4    NaN  "
      ]
     },
     "execution_count": 6,
     "metadata": {},
     "output_type": "execute_result"
    }
   ],
   "source": [
    "df_transactions.head()"
   ]
  },
  {
   "cell_type": "code",
   "execution_count": 7,
   "id": "91ed156e",
   "metadata": {},
   "outputs": [
    {
     "data": {
      "text/plain": [
       "(id                       0\n",
       " date                     0\n",
       " client_id                0\n",
       " card_id                  0\n",
       " amount                   0\n",
       " use_chip                 0\n",
       " merchant_id              0\n",
       " merchant_city            0\n",
       " merchant_state     1563700\n",
       " zip                1652706\n",
       " mcc                      0\n",
       " errors            13094522\n",
       " dtype: int64,\n",
       " np.int64(0))"
      ]
     },
     "execution_count": 7,
     "metadata": {},
     "output_type": "execute_result"
    }
   ],
   "source": [
    "df_transactions.isna().sum(), df_transactions.duplicated().sum()"
   ]
  },
  {
   "cell_type": "code",
   "execution_count": 8,
   "id": "2f526464",
   "metadata": {},
   "outputs": [
    {
     "data": {
      "text/plain": [
       "0          2010-01-01 00:01:00\n",
       "1          2010-01-01 00:02:00\n",
       "2          2010-01-01 00:02:00\n",
       "3          2010-01-01 00:05:00\n",
       "4          2010-01-01 00:06:00\n",
       "                   ...        \n",
       "13305910   2019-10-31 23:56:00\n",
       "13305911   2019-10-31 23:56:00\n",
       "13305912   2019-10-31 23:57:00\n",
       "13305913   2019-10-31 23:58:00\n",
       "13305914   2019-10-31 23:59:00\n",
       "Name: date, Length: 13305915, dtype: datetime64[ns]"
      ]
     },
     "execution_count": 8,
     "metadata": {},
     "output_type": "execute_result"
    }
   ],
   "source": [
    "df_transactions['date'] = pd.to_datetime(df_transactions['date'])\n",
    "df_transactions['date']"
   ]
  },
  {
   "cell_type": "code",
   "execution_count": 9,
   "id": "f6bf3e55",
   "metadata": {},
   "outputs": [
    {
     "data": {
      "text/plain": [
       "0           -77.00\n",
       "1            14.57\n",
       "2            80.00\n",
       "3           200.00\n",
       "4            46.41\n",
       "             ...  \n",
       "13305910      1.11\n",
       "13305911     12.80\n",
       "13305912     40.44\n",
       "13305913      4.00\n",
       "13305914     12.88\n",
       "Name: amount, Length: 13305915, dtype: float64"
      ]
     },
     "execution_count": 9,
     "metadata": {},
     "output_type": "execute_result"
    }
   ],
   "source": [
    "df_transactions['amount'] = df_transactions['amount'] \\\n",
    "    .str.replace('$', '').astype('float')\n",
    "df_transactions['amount']"
   ]
  },
  {
   "cell_type": "code",
   "execution_count": 10,
   "id": "1fc23023",
   "metadata": {},
   "outputs": [
    {
     "data": {
      "text/html": [
       "<div>\n",
       "<style scoped>\n",
       "    .dataframe tbody tr th:only-of-type {\n",
       "        vertical-align: middle;\n",
       "    }\n",
       "\n",
       "    .dataframe tbody tr th {\n",
       "        vertical-align: top;\n",
       "    }\n",
       "\n",
       "    .dataframe thead th {\n",
       "        text-align: right;\n",
       "    }\n",
       "</style>\n",
       "<table border=\"1\" class=\"dataframe\">\n",
       "  <thead>\n",
       "    <tr style=\"text-align: right;\">\n",
       "      <th></th>\n",
       "      <th>id</th>\n",
       "      <th>date</th>\n",
       "      <th>client_id</th>\n",
       "      <th>card_id</th>\n",
       "      <th>amount</th>\n",
       "      <th>use_chip</th>\n",
       "      <th>merchant_id</th>\n",
       "      <th>merchant_city</th>\n",
       "      <th>merchant_state</th>\n",
       "      <th>zip</th>\n",
       "      <th>mcc</th>\n",
       "      <th>errors</th>\n",
       "    </tr>\n",
       "  </thead>\n",
       "  <tbody>\n",
       "    <tr>\n",
       "      <th>7</th>\n",
       "      <td>7475335</td>\n",
       "      <td>2010-01-01 00:14:00</td>\n",
       "      <td>1684</td>\n",
       "      <td>2140</td>\n",
       "      <td>26.46</td>\n",
       "      <td>Online Transaction</td>\n",
       "      <td>39021</td>\n",
       "      <td>ONLINE</td>\n",
       "      <td>NaN</td>\n",
       "      <td>NaN</td>\n",
       "      <td>4784</td>\n",
       "      <td>NaN</td>\n",
       "    </tr>\n",
       "    <tr>\n",
       "      <th>8</th>\n",
       "      <td>7475336</td>\n",
       "      <td>2010-01-01 00:21:00</td>\n",
       "      <td>335</td>\n",
       "      <td>5131</td>\n",
       "      <td>261.58</td>\n",
       "      <td>Online Transaction</td>\n",
       "      <td>50292</td>\n",
       "      <td>ONLINE</td>\n",
       "      <td>NaN</td>\n",
       "      <td>NaN</td>\n",
       "      <td>7801</td>\n",
       "      <td>NaN</td>\n",
       "    </tr>\n",
       "    <tr>\n",
       "      <th>18</th>\n",
       "      <td>7475346</td>\n",
       "      <td>2010-01-01 00:34:00</td>\n",
       "      <td>394</td>\n",
       "      <td>4717</td>\n",
       "      <td>26.04</td>\n",
       "      <td>Online Transaction</td>\n",
       "      <td>39021</td>\n",
       "      <td>ONLINE</td>\n",
       "      <td>NaN</td>\n",
       "      <td>NaN</td>\n",
       "      <td>4784</td>\n",
       "      <td>NaN</td>\n",
       "    </tr>\n",
       "    <tr>\n",
       "      <th>24</th>\n",
       "      <td>7475353</td>\n",
       "      <td>2010-01-01 00:43:00</td>\n",
       "      <td>301</td>\n",
       "      <td>3742</td>\n",
       "      <td>10.17</td>\n",
       "      <td>Online Transaction</td>\n",
       "      <td>39021</td>\n",
       "      <td>ONLINE</td>\n",
       "      <td>NaN</td>\n",
       "      <td>NaN</td>\n",
       "      <td>4784</td>\n",
       "      <td>NaN</td>\n",
       "    </tr>\n",
       "    <tr>\n",
       "      <th>26</th>\n",
       "      <td>7475356</td>\n",
       "      <td>2010-01-01 00:45:00</td>\n",
       "      <td>566</td>\n",
       "      <td>3439</td>\n",
       "      <td>16.86</td>\n",
       "      <td>Online Transaction</td>\n",
       "      <td>16798</td>\n",
       "      <td>ONLINE</td>\n",
       "      <td>NaN</td>\n",
       "      <td>NaN</td>\n",
       "      <td>4121</td>\n",
       "      <td>NaN</td>\n",
       "    </tr>\n",
       "    <tr>\n",
       "      <th>...</th>\n",
       "      <td>...</td>\n",
       "      <td>...</td>\n",
       "      <td>...</td>\n",
       "      <td>...</td>\n",
       "      <td>...</td>\n",
       "      <td>...</td>\n",
       "      <td>...</td>\n",
       "      <td>...</td>\n",
       "      <td>...</td>\n",
       "      <td>...</td>\n",
       "      <td>...</td>\n",
       "      <td>...</td>\n",
       "    </tr>\n",
       "    <tr>\n",
       "      <th>13305879</th>\n",
       "      <td>23761832</td>\n",
       "      <td>2019-10-31 23:22:00</td>\n",
       "      <td>1556</td>\n",
       "      <td>2972</td>\n",
       "      <td>17.65</td>\n",
       "      <td>Online Transaction</td>\n",
       "      <td>88459</td>\n",
       "      <td>ONLINE</td>\n",
       "      <td>NaN</td>\n",
       "      <td>NaN</td>\n",
       "      <td>5311</td>\n",
       "      <td>NaN</td>\n",
       "    </tr>\n",
       "    <tr>\n",
       "      <th>13305880</th>\n",
       "      <td>23761833</td>\n",
       "      <td>2019-10-31 23:22:00</td>\n",
       "      <td>1797</td>\n",
       "      <td>5660</td>\n",
       "      <td>34.81</td>\n",
       "      <td>Online Transaction</td>\n",
       "      <td>15143</td>\n",
       "      <td>ONLINE</td>\n",
       "      <td>NaN</td>\n",
       "      <td>NaN</td>\n",
       "      <td>4784</td>\n",
       "      <td>NaN</td>\n",
       "    </tr>\n",
       "    <tr>\n",
       "      <th>13305888</th>\n",
       "      <td>23761843</td>\n",
       "      <td>2019-10-31 23:33:00</td>\n",
       "      <td>1069</td>\n",
       "      <td>5167</td>\n",
       "      <td>59.71</td>\n",
       "      <td>Online Transaction</td>\n",
       "      <td>39021</td>\n",
       "      <td>ONLINE</td>\n",
       "      <td>NaN</td>\n",
       "      <td>NaN</td>\n",
       "      <td>4784</td>\n",
       "      <td>NaN</td>\n",
       "    </tr>\n",
       "    <tr>\n",
       "      <th>13305897</th>\n",
       "      <td>23761853</td>\n",
       "      <td>2019-10-31 23:39:00</td>\n",
       "      <td>1422</td>\n",
       "      <td>5696</td>\n",
       "      <td>694.30</td>\n",
       "      <td>Online Transaction</td>\n",
       "      <td>70268</td>\n",
       "      <td>ONLINE</td>\n",
       "      <td>NaN</td>\n",
       "      <td>NaN</td>\n",
       "      <td>4722</td>\n",
       "      <td>NaN</td>\n",
       "    </tr>\n",
       "    <tr>\n",
       "      <th>13305911</th>\n",
       "      <td>23761869</td>\n",
       "      <td>2019-10-31 23:56:00</td>\n",
       "      <td>1766</td>\n",
       "      <td>2066</td>\n",
       "      <td>12.80</td>\n",
       "      <td>Online Transaction</td>\n",
       "      <td>39261</td>\n",
       "      <td>ONLINE</td>\n",
       "      <td>NaN</td>\n",
       "      <td>NaN</td>\n",
       "      <td>5815</td>\n",
       "      <td>NaN</td>\n",
       "    </tr>\n",
       "  </tbody>\n",
       "</table>\n",
       "<p>1563700 rows × 12 columns</p>\n",
       "</div>"
      ],
      "text/plain": [
       "                id                date  client_id  card_id  amount  \\\n",
       "7          7475335 2010-01-01 00:14:00       1684     2140   26.46   \n",
       "8          7475336 2010-01-01 00:21:00        335     5131  261.58   \n",
       "18         7475346 2010-01-01 00:34:00        394     4717   26.04   \n",
       "24         7475353 2010-01-01 00:43:00        301     3742   10.17   \n",
       "26         7475356 2010-01-01 00:45:00        566     3439   16.86   \n",
       "...            ...                 ...        ...      ...     ...   \n",
       "13305879  23761832 2019-10-31 23:22:00       1556     2972   17.65   \n",
       "13305880  23761833 2019-10-31 23:22:00       1797     5660   34.81   \n",
       "13305888  23761843 2019-10-31 23:33:00       1069     5167   59.71   \n",
       "13305897  23761853 2019-10-31 23:39:00       1422     5696  694.30   \n",
       "13305911  23761869 2019-10-31 23:56:00       1766     2066   12.80   \n",
       "\n",
       "                    use_chip  merchant_id merchant_city merchant_state  zip  \\\n",
       "7         Online Transaction        39021        ONLINE            NaN  NaN   \n",
       "8         Online Transaction        50292        ONLINE            NaN  NaN   \n",
       "18        Online Transaction        39021        ONLINE            NaN  NaN   \n",
       "24        Online Transaction        39021        ONLINE            NaN  NaN   \n",
       "26        Online Transaction        16798        ONLINE            NaN  NaN   \n",
       "...                      ...          ...           ...            ...  ...   \n",
       "13305879  Online Transaction        88459        ONLINE            NaN  NaN   \n",
       "13305880  Online Transaction        15143        ONLINE            NaN  NaN   \n",
       "13305888  Online Transaction        39021        ONLINE            NaN  NaN   \n",
       "13305897  Online Transaction        70268        ONLINE            NaN  NaN   \n",
       "13305911  Online Transaction        39261        ONLINE            NaN  NaN   \n",
       "\n",
       "           mcc errors  \n",
       "7         4784    NaN  \n",
       "8         7801    NaN  \n",
       "18        4784    NaN  \n",
       "24        4784    NaN  \n",
       "26        4121    NaN  \n",
       "...        ...    ...  \n",
       "13305879  5311    NaN  \n",
       "13305880  4784    NaN  \n",
       "13305888  4784    NaN  \n",
       "13305897  4722    NaN  \n",
       "13305911  5815    NaN  \n",
       "\n",
       "[1563700 rows x 12 columns]"
      ]
     },
     "execution_count": 10,
     "metadata": {},
     "output_type": "execute_result"
    }
   ],
   "source": [
    "df_transactions[df_transactions['merchant_state'].isna()]"
   ]
  },
  {
   "cell_type": "code",
   "execution_count": 11,
   "id": "43c82842",
   "metadata": {},
   "outputs": [],
   "source": [
    "# Substituição de valores nulos no dataframe para ONLINE\n",
    "df_transactions.loc[df_transactions['merchant_city'] == 'ONLINE', 'merchant_state']='ONLINE'\n",
    "df_transactions.loc[df_transactions['merchant_city']=='ONLINE', 'zip'] = 0"
   ]
  },
  {
   "cell_type": "code",
   "execution_count": 12,
   "id": "cc81c578",
   "metadata": {},
   "outputs": [
    {
     "data": {
      "text/plain": [
       "id                       0\n",
       "date                     0\n",
       "client_id                0\n",
       "card_id                  0\n",
       "amount                   0\n",
       "use_chip                 0\n",
       "merchant_id              0\n",
       "merchant_city            0\n",
       "merchant_state           0\n",
       "zip                  89006\n",
       "mcc                      0\n",
       "errors            13094522\n",
       "dtype: int64"
      ]
     },
     "execution_count": 12,
     "metadata": {},
     "output_type": "execute_result"
    }
   ],
   "source": [
    "df_transactions.isna().sum()"
   ]
  },
  {
   "cell_type": "code",
   "execution_count": 13,
   "id": "4eef714c",
   "metadata": {},
   "outputs": [
    {
     "name": "stderr",
     "output_type": "stream",
     "text": [
      "/tmp/ipykernel_4967/2191365140.py:1: FutureWarning: A value is trying to be set on a copy of a DataFrame or Series through chained assignment using an inplace method.\n",
      "The behavior will change in pandas 3.0. This inplace method will never work because the intermediate object on which we are setting values always behaves as a copy.\n",
      "\n",
      "For example, when doing 'df[col].method(value, inplace=True)', try using 'df.method({col: value}, inplace=True)' or df[col] = df[col].method(value) instead, to perform the operation inplace on the original object.\n",
      "\n",
      "\n",
      "  df_transactions['errors'].fillna(\"No Errors\", inplace=True)\n"
     ]
    }
   ],
   "source": [
    "df_transactions['errors'].fillna(\"No Errors\", inplace=True)"
   ]
  },
  {
   "cell_type": "code",
   "execution_count": 14,
   "id": "3823fe4b",
   "metadata": {},
   "outputs": [
    {
     "data": {
      "text/html": [
       "<div>\n",
       "<style scoped>\n",
       "    .dataframe tbody tr th:only-of-type {\n",
       "        vertical-align: middle;\n",
       "    }\n",
       "\n",
       "    .dataframe tbody tr th {\n",
       "        vertical-align: top;\n",
       "    }\n",
       "\n",
       "    .dataframe thead th {\n",
       "        text-align: right;\n",
       "    }\n",
       "</style>\n",
       "<table border=\"1\" class=\"dataframe\">\n",
       "  <thead>\n",
       "    <tr style=\"text-align: right;\">\n",
       "      <th></th>\n",
       "      <th>id</th>\n",
       "      <th>date</th>\n",
       "      <th>client_id</th>\n",
       "      <th>card_id</th>\n",
       "      <th>amount</th>\n",
       "      <th>use_chip</th>\n",
       "      <th>merchant_id</th>\n",
       "      <th>merchant_city</th>\n",
       "      <th>merchant_state</th>\n",
       "      <th>zip</th>\n",
       "      <th>mcc</th>\n",
       "      <th>errors</th>\n",
       "    </tr>\n",
       "  </thead>\n",
       "  <tbody>\n",
       "    <tr>\n",
       "      <th>581</th>\n",
       "      <td>7476010</td>\n",
       "      <td>2010-01-01 07:53:00</td>\n",
       "      <td>1579</td>\n",
       "      <td>3830</td>\n",
       "      <td>6.51</td>\n",
       "      <td>Swipe Transaction</td>\n",
       "      <td>22204</td>\n",
       "      <td>Puerto Vallarta</td>\n",
       "      <td>Mexico</td>\n",
       "      <td>NaN</td>\n",
       "      <td>5541</td>\n",
       "      <td>No Errors</td>\n",
       "    </tr>\n",
       "    <tr>\n",
       "      <th>1026</th>\n",
       "      <td>7476549</td>\n",
       "      <td>2010-01-01 10:03:00</td>\n",
       "      <td>363</td>\n",
       "      <td>5555</td>\n",
       "      <td>8.16</td>\n",
       "      <td>Swipe Transaction</td>\n",
       "      <td>93391</td>\n",
       "      <td>Vatican City</td>\n",
       "      <td>Vatican City</td>\n",
       "      <td>NaN</td>\n",
       "      <td>5812</td>\n",
       "      <td>No Errors</td>\n",
       "    </tr>\n",
       "    <tr>\n",
       "      <th>1148</th>\n",
       "      <td>7476704</td>\n",
       "      <td>2010-01-01 10:37:00</td>\n",
       "      <td>363</td>\n",
       "      <td>5555</td>\n",
       "      <td>11.66</td>\n",
       "      <td>Swipe Transaction</td>\n",
       "      <td>93391</td>\n",
       "      <td>Vatican City</td>\n",
       "      <td>Vatican City</td>\n",
       "      <td>NaN</td>\n",
       "      <td>5812</td>\n",
       "      <td>No Errors</td>\n",
       "    </tr>\n",
       "    <tr>\n",
       "      <th>1706</th>\n",
       "      <td>7477375</td>\n",
       "      <td>2010-01-01 12:50:00</td>\n",
       "      <td>1266</td>\n",
       "      <td>2478</td>\n",
       "      <td>9.77</td>\n",
       "      <td>Swipe Transaction</td>\n",
       "      <td>22204</td>\n",
       "      <td>Guadalajara</td>\n",
       "      <td>Mexico</td>\n",
       "      <td>NaN</td>\n",
       "      <td>5541</td>\n",
       "      <td>No Errors</td>\n",
       "    </tr>\n",
       "    <tr>\n",
       "      <th>1836</th>\n",
       "      <td>7477534</td>\n",
       "      <td>2010-01-01 13:19:00</td>\n",
       "      <td>1266</td>\n",
       "      <td>2478</td>\n",
       "      <td>11.32</td>\n",
       "      <td>Swipe Transaction</td>\n",
       "      <td>75804</td>\n",
       "      <td>Guadalajara</td>\n",
       "      <td>Mexico</td>\n",
       "      <td>NaN</td>\n",
       "      <td>5411</td>\n",
       "      <td>No Errors</td>\n",
       "    </tr>\n",
       "    <tr>\n",
       "      <th>...</th>\n",
       "      <td>...</td>\n",
       "      <td>...</td>\n",
       "      <td>...</td>\n",
       "      <td>...</td>\n",
       "      <td>...</td>\n",
       "      <td>...</td>\n",
       "      <td>...</td>\n",
       "      <td>...</td>\n",
       "      <td>...</td>\n",
       "      <td>...</td>\n",
       "      <td>...</td>\n",
       "      <td>...</td>\n",
       "    </tr>\n",
       "    <tr>\n",
       "      <th>13304162</th>\n",
       "      <td>23759669</td>\n",
       "      <td>2019-10-31 13:16:00</td>\n",
       "      <td>905</td>\n",
       "      <td>53</td>\n",
       "      <td>18.97</td>\n",
       "      <td>Swipe Transaction</td>\n",
       "      <td>46284</td>\n",
       "      <td>Prague</td>\n",
       "      <td>Czech Republic</td>\n",
       "      <td>NaN</td>\n",
       "      <td>5411</td>\n",
       "      <td>No Errors</td>\n",
       "    </tr>\n",
       "    <tr>\n",
       "      <th>13304376</th>\n",
       "      <td>23759927</td>\n",
       "      <td>2019-10-31 14:03:00</td>\n",
       "      <td>905</td>\n",
       "      <td>5053</td>\n",
       "      <td>171.95</td>\n",
       "      <td>Swipe Transaction</td>\n",
       "      <td>51300</td>\n",
       "      <td>Prague</td>\n",
       "      <td>Czech Republic</td>\n",
       "      <td>NaN</td>\n",
       "      <td>3359</td>\n",
       "      <td>No Errors</td>\n",
       "    </tr>\n",
       "    <tr>\n",
       "      <th>13304475</th>\n",
       "      <td>23760060</td>\n",
       "      <td>2019-10-31 14:28:00</td>\n",
       "      <td>905</td>\n",
       "      <td>5053</td>\n",
       "      <td>-377.00</td>\n",
       "      <td>Chip Transaction</td>\n",
       "      <td>51300</td>\n",
       "      <td>Prague</td>\n",
       "      <td>Czech Republic</td>\n",
       "      <td>NaN</td>\n",
       "      <td>3359</td>\n",
       "      <td>No Errors</td>\n",
       "    </tr>\n",
       "    <tr>\n",
       "      <th>13305061</th>\n",
       "      <td>23760796</td>\n",
       "      <td>2019-10-31 16:45:00</td>\n",
       "      <td>738</td>\n",
       "      <td>5774</td>\n",
       "      <td>317.42</td>\n",
       "      <td>Swipe Transaction</td>\n",
       "      <td>16790</td>\n",
       "      <td>Paris</td>\n",
       "      <td>France</td>\n",
       "      <td>NaN</td>\n",
       "      <td>3389</td>\n",
       "      <td>No Errors</td>\n",
       "    </tr>\n",
       "    <tr>\n",
       "      <th>13305140</th>\n",
       "      <td>23760892</td>\n",
       "      <td>2019-10-31 16:58:00</td>\n",
       "      <td>738</td>\n",
       "      <td>5774</td>\n",
       "      <td>-494.00</td>\n",
       "      <td>Swipe Transaction</td>\n",
       "      <td>16790</td>\n",
       "      <td>Paris</td>\n",
       "      <td>France</td>\n",
       "      <td>NaN</td>\n",
       "      <td>3389</td>\n",
       "      <td>No Errors</td>\n",
       "    </tr>\n",
       "  </tbody>\n",
       "</table>\n",
       "<p>89006 rows × 12 columns</p>\n",
       "</div>"
      ],
      "text/plain": [
       "                id                date  client_id  card_id  amount  \\\n",
       "581        7476010 2010-01-01 07:53:00       1579     3830    6.51   \n",
       "1026       7476549 2010-01-01 10:03:00        363     5555    8.16   \n",
       "1148       7476704 2010-01-01 10:37:00        363     5555   11.66   \n",
       "1706       7477375 2010-01-01 12:50:00       1266     2478    9.77   \n",
       "1836       7477534 2010-01-01 13:19:00       1266     2478   11.32   \n",
       "...            ...                 ...        ...      ...     ...   \n",
       "13304162  23759669 2019-10-31 13:16:00        905       53   18.97   \n",
       "13304376  23759927 2019-10-31 14:03:00        905     5053  171.95   \n",
       "13304475  23760060 2019-10-31 14:28:00        905     5053 -377.00   \n",
       "13305061  23760796 2019-10-31 16:45:00        738     5774  317.42   \n",
       "13305140  23760892 2019-10-31 16:58:00        738     5774 -494.00   \n",
       "\n",
       "                   use_chip  merchant_id    merchant_city  merchant_state  \\\n",
       "581       Swipe Transaction        22204  Puerto Vallarta          Mexico   \n",
       "1026      Swipe Transaction        93391     Vatican City    Vatican City   \n",
       "1148      Swipe Transaction        93391     Vatican City    Vatican City   \n",
       "1706      Swipe Transaction        22204      Guadalajara          Mexico   \n",
       "1836      Swipe Transaction        75804      Guadalajara          Mexico   \n",
       "...                     ...          ...              ...             ...   \n",
       "13304162  Swipe Transaction        46284           Prague  Czech Republic   \n",
       "13304376  Swipe Transaction        51300           Prague  Czech Republic   \n",
       "13304475   Chip Transaction        51300           Prague  Czech Republic   \n",
       "13305061  Swipe Transaction        16790            Paris          France   \n",
       "13305140  Swipe Transaction        16790            Paris          France   \n",
       "\n",
       "          zip   mcc     errors  \n",
       "581       NaN  5541  No Errors  \n",
       "1026      NaN  5812  No Errors  \n",
       "1148      NaN  5812  No Errors  \n",
       "1706      NaN  5541  No Errors  \n",
       "1836      NaN  5411  No Errors  \n",
       "...       ...   ...        ...  \n",
       "13304162  NaN  5411  No Errors  \n",
       "13304376  NaN  3359  No Errors  \n",
       "13304475  NaN  3359  No Errors  \n",
       "13305061  NaN  3389  No Errors  \n",
       "13305140  NaN  3389  No Errors  \n",
       "\n",
       "[89006 rows x 12 columns]"
      ]
     },
     "execution_count": 14,
     "metadata": {},
     "output_type": "execute_result"
    }
   ],
   "source": [
    "df_transactions[df_transactions['zip'].isna()]"
   ]
  },
  {
   "cell_type": "code",
   "execution_count": 15,
   "id": "e4b99ed3",
   "metadata": {},
   "outputs": [
    {
     "name": "stderr",
     "output_type": "stream",
     "text": [
      "/tmp/ipykernel_4967/4224625589.py:1: FutureWarning: A value is trying to be set on a copy of a DataFrame or Series through chained assignment using an inplace method.\n",
      "The behavior will change in pandas 3.0. This inplace method will never work because the intermediate object on which we are setting values always behaves as a copy.\n",
      "\n",
      "For example, when doing 'df[col].method(value, inplace=True)', try using 'df.method({col: value}, inplace=True)' or df[col] = df[col].method(value) instead, to perform the operation inplace on the original object.\n",
      "\n",
      "\n",
      "  df_transactions['zip'].fillna(0, inplace=True)\n"
     ]
    }
   ],
   "source": [
    "df_transactions['zip'].fillna(0, inplace=True)"
   ]
  },
  {
   "cell_type": "code",
   "execution_count": 16,
   "id": "b1bf9485",
   "metadata": {},
   "outputs": [
    {
     "data": {
      "text/plain": [
       "(id                0\n",
       " date              0\n",
       " client_id         0\n",
       " card_id           0\n",
       " amount            0\n",
       " use_chip          0\n",
       " merchant_id       0\n",
       " merchant_city     0\n",
       " merchant_state    0\n",
       " zip               0\n",
       " mcc               0\n",
       " errors            0\n",
       " dtype: int64,\n",
       " id                         int64\n",
       " date              datetime64[ns]\n",
       " client_id                  int64\n",
       " card_id                    int64\n",
       " amount                   float64\n",
       " use_chip                  object\n",
       " merchant_id                int64\n",
       " merchant_city             object\n",
       " merchant_state            object\n",
       " zip                      float64\n",
       " mcc                        int64\n",
       " errors                    object\n",
       " dtype: object)"
      ]
     },
     "execution_count": 16,
     "metadata": {},
     "output_type": "execute_result"
    }
   ],
   "source": [
    "df_transactions.isna().sum(), df_transactions.dtypes"
   ]
  },
  {
   "cell_type": "code",
   "execution_count": 17,
   "id": "da5d974b",
   "metadata": {},
   "outputs": [
    {
     "data": {
      "text/plain": [
       "<Axes: xlabel='amount'>"
      ]
     },
     "execution_count": 17,
     "metadata": {},
     "output_type": "execute_result"
    },
    {
     "data": {
      "image/png": "[encoded data removed]",
      "text/plain": [
       "<Figure size 640x480 with 1 Axes>"
      ]
     },
     "metadata": {},
     "output_type": "display_data"
    }
   ],
   "source": [
    "# Grafico 01 - Boxplot do montante para identificar outliers\n",
    "\n",
    "sns.boxplot(\n",
    "    data = df_transactions,\n",
    "    x = 'amount'\n",
    ")"
   ]
  },
  {
   "cell_type": "code",
   "execution_count": 18,
   "id": "fef64743",
   "metadata": {},
   "outputs": [
    {
     "data": {
      "text/plain": [
       "(12253396, 12)"
      ]
     },
     "execution_count": 18,
     "metadata": {},
     "output_type": "execute_result"
    }
   ],
   "source": [
    "# removendo os outliers por iqr\n",
    "\n",
    "Q1, Q3 = df_transactions['amount'].quantile(0.25), df_transactions['amount'].quantile(0.75)\n",
    "IQR = Q3 - Q1 \n",
    "lbo = Q1 - 1.5 * IQR \n",
    "ubo = Q3 + 1.5 * IQR \n",
    "\n",
    "df_transactions = df_transactions[(df_transactions['amount'] >= lbo) & (df_transactions['amount'] <= ubo)]\n",
    "df_transactions.shape"
   ]
  },
  {
   "cell_type": "code",
   "execution_count": 19,
   "id": "bc03c0ab",
   "metadata": {},
   "outputs": [
    {
     "data": {
      "text/plain": [
       "<Axes: xlabel='amount'>"
      ]
     },
     "execution_count": 19,
     "metadata": {},
     "output_type": "execute_result"
    },
    {
     "data": {
      "image/png": "[encoded data removed]",
      "text/plain": [
       "<Figure size 640x480 with 1 Axes>"
      ]
     },
     "metadata": {},
     "output_type": "display_data"
    }
   ],
   "source": [
    "# Grafico 02 - Montante apos remocao de outliers \n",
    "\n",
    "sns.boxplot(\n",
    "    data = df_transactions,\n",
    "    x = 'amount'\n",
    ")"
   ]
  },
  {
   "cell_type": "markdown",
   "id": "0d512707",
   "metadata": {},
   "source": [
    "## Analise da planilha users_data.csv"
   ]
  },
  {
   "cell_type": "code",
   "execution_count": 20,
   "id": "0265134a",
   "metadata": {},
   "outputs": [
    {
     "data": {
      "text/html": [
       "<div>\n",
       "<style scoped>\n",
       "    .dataframe tbody tr th:only-of-type {\n",
       "        vertical-align: middle;\n",
       "    }\n",
       "\n",
       "    .dataframe tbody tr th {\n",
       "        vertical-align: top;\n",
       "    }\n",
       "\n",
       "    .dataframe thead th {\n",
       "        text-align: right;\n",
       "    }\n",
       "</style>\n",
       "<table border=\"1\" class=\"dataframe\">\n",
       "  <thead>\n",
       "    <tr style=\"text-align: right;\">\n",
       "      <th></th>\n",
       "      <th>id</th>\n",
       "      <th>current_age</th>\n",
       "      <th>retirement_age</th>\n",
       "      <th>birth_year</th>\n",
       "      <th>birth_month</th>\n",
       "      <th>latitude</th>\n",
       "      <th>longitude</th>\n",
       "      <th>credit_score</th>\n",
       "      <th>num_credit_cards</th>\n",
       "    </tr>\n",
       "  </thead>\n",
       "  <tbody>\n",
       "    <tr>\n",
       "      <th>count</th>\n",
       "      <td>2000.000000</td>\n",
       "      <td>2000.000000</td>\n",
       "      <td>2000.000000</td>\n",
       "      <td>2000.000000</td>\n",
       "      <td>2000.000000</td>\n",
       "      <td>2000.000000</td>\n",
       "      <td>2000.000000</td>\n",
       "      <td>2000.000000</td>\n",
       "      <td>2000.000000</td>\n",
       "    </tr>\n",
       "    <tr>\n",
       "      <th>mean</th>\n",
       "      <td>999.500000</td>\n",
       "      <td>45.391500</td>\n",
       "      <td>66.237500</td>\n",
       "      <td>1973.803000</td>\n",
       "      <td>6.439000</td>\n",
       "      <td>37.389225</td>\n",
       "      <td>-91.554765</td>\n",
       "      <td>709.734500</td>\n",
       "      <td>3.073000</td>\n",
       "    </tr>\n",
       "    <tr>\n",
       "      <th>std</th>\n",
       "      <td>577.494589</td>\n",
       "      <td>18.414092</td>\n",
       "      <td>3.628867</td>\n",
       "      <td>18.421234</td>\n",
       "      <td>3.565338</td>\n",
       "      <td>5.114324</td>\n",
       "      <td>16.283293</td>\n",
       "      <td>67.221949</td>\n",
       "      <td>1.637379</td>\n",
       "    </tr>\n",
       "    <tr>\n",
       "      <th>min</th>\n",
       "      <td>0.000000</td>\n",
       "      <td>18.000000</td>\n",
       "      <td>50.000000</td>\n",
       "      <td>1918.000000</td>\n",
       "      <td>1.000000</td>\n",
       "      <td>20.880000</td>\n",
       "      <td>-159.410000</td>\n",
       "      <td>480.000000</td>\n",
       "      <td>1.000000</td>\n",
       "    </tr>\n",
       "    <tr>\n",
       "      <th>25%</th>\n",
       "      <td>499.750000</td>\n",
       "      <td>30.000000</td>\n",
       "      <td>65.000000</td>\n",
       "      <td>1961.000000</td>\n",
       "      <td>3.000000</td>\n",
       "      <td>33.837500</td>\n",
       "      <td>-97.395000</td>\n",
       "      <td>681.000000</td>\n",
       "      <td>2.000000</td>\n",
       "    </tr>\n",
       "    <tr>\n",
       "      <th>50%</th>\n",
       "      <td>999.500000</td>\n",
       "      <td>44.000000</td>\n",
       "      <td>66.000000</td>\n",
       "      <td>1975.000000</td>\n",
       "      <td>7.000000</td>\n",
       "      <td>38.250000</td>\n",
       "      <td>-86.440000</td>\n",
       "      <td>711.500000</td>\n",
       "      <td>3.000000</td>\n",
       "    </tr>\n",
       "    <tr>\n",
       "      <th>75%</th>\n",
       "      <td>1499.250000</td>\n",
       "      <td>58.000000</td>\n",
       "      <td>68.000000</td>\n",
       "      <td>1989.000000</td>\n",
       "      <td>10.000000</td>\n",
       "      <td>41.200000</td>\n",
       "      <td>-80.130000</td>\n",
       "      <td>753.000000</td>\n",
       "      <td>4.000000</td>\n",
       "    </tr>\n",
       "    <tr>\n",
       "      <th>max</th>\n",
       "      <td>1999.000000</td>\n",
       "      <td>101.000000</td>\n",
       "      <td>79.000000</td>\n",
       "      <td>2002.000000</td>\n",
       "      <td>12.000000</td>\n",
       "      <td>61.200000</td>\n",
       "      <td>-68.670000</td>\n",
       "      <td>850.000000</td>\n",
       "      <td>9.000000</td>\n",
       "    </tr>\n",
       "  </tbody>\n",
       "</table>\n",
       "</div>"
      ],
      "text/plain": [
       "                id  current_age  retirement_age   birth_year  birth_month  \\\n",
       "count  2000.000000  2000.000000     2000.000000  2000.000000  2000.000000   \n",
       "mean    999.500000    45.391500       66.237500  1973.803000     6.439000   \n",
       "std     577.494589    18.414092        3.628867    18.421234     3.565338   \n",
       "min       0.000000    18.000000       50.000000  1918.000000     1.000000   \n",
       "25%     499.750000    30.000000       65.000000  1961.000000     3.000000   \n",
       "50%     999.500000    44.000000       66.000000  1975.000000     7.000000   \n",
       "75%    1499.250000    58.000000       68.000000  1989.000000    10.000000   \n",
       "max    1999.000000   101.000000       79.000000  2002.000000    12.000000   \n",
       "\n",
       "          latitude    longitude  credit_score  num_credit_cards  \n",
       "count  2000.000000  2000.000000   2000.000000       2000.000000  \n",
       "mean     37.389225   -91.554765    709.734500          3.073000  \n",
       "std       5.114324    16.283293     67.221949          1.637379  \n",
       "min      20.880000  -159.410000    480.000000          1.000000  \n",
       "25%      33.837500   -97.395000    681.000000          2.000000  \n",
       "50%      38.250000   -86.440000    711.500000          3.000000  \n",
       "75%      41.200000   -80.130000    753.000000          4.000000  \n",
       "max      61.200000   -68.670000    850.000000          9.000000  "
      ]
     },
     "execution_count": 20,
     "metadata": {},
     "output_type": "execute_result"
    }
   ],
   "source": [
    "df_users.describe()"
   ]
  },
  {
   "cell_type": "code",
   "execution_count": 21,
   "id": "35614bbb",
   "metadata": {},
   "outputs": [
    {
     "data": {
      "text/plain": [
       "(id                   0\n",
       " current_age          0\n",
       " retirement_age       0\n",
       " birth_year           0\n",
       " birth_month          0\n",
       " gender               0\n",
       " address              0\n",
       " latitude             0\n",
       " longitude            0\n",
       " per_capita_income    0\n",
       " yearly_income        0\n",
       " total_debt           0\n",
       " credit_score         0\n",
       " num_credit_cards     0\n",
       " dtype: int64,\n",
       " np.int64(0))"
      ]
     },
     "execution_count": 21,
     "metadata": {},
     "output_type": "execute_result"
    }
   ],
   "source": [
    "df_users.isna().sum(), df_users.duplicated().sum()"
   ]
  },
  {
   "cell_type": "code",
   "execution_count": 22,
   "id": "140a4b60",
   "metadata": {},
   "outputs": [
    {
     "name": "stdout",
     "output_type": "stream",
     "text": [
      "<class 'pandas.core.frame.DataFrame'>\n",
      "RangeIndex: 2000 entries, 0 to 1999\n",
      "Data columns (total 14 columns):\n",
      " #   Column             Non-Null Count  Dtype  \n",
      "---  ------             --------------  -----  \n",
      " 0   id                 2000 non-null   int64  \n",
      " 1   current_age        2000 non-null   int64  \n",
      " 2   retirement_age     2000 non-null   int64  \n",
      " 3   birth_year         2000 non-null   int64  \n",
      " 4   birth_month        2000 non-null   int64  \n",
      " 5   gender             2000 non-null   object \n",
      " 6   address            2000 non-null   object \n",
      " 7   latitude           2000 non-null   float64\n",
      " 8   longitude          2000 non-null   float64\n",
      " 9   per_capita_income  2000 non-null   object \n",
      " 10  yearly_income      2000 non-null   object \n",
      " 11  total_debt         2000 non-null   object \n",
      " 12  credit_score       2000 non-null   int64  \n",
      " 13  num_credit_cards   2000 non-null   int64  \n",
      "dtypes: float64(2), int64(7), object(5)\n",
      "memory usage: 218.9+ KB\n"
     ]
    }
   ],
   "source": [
    "df_users.info()"
   ]
  },
  {
   "cell_type": "code",
   "execution_count": 23,
   "id": "2d1f20bf",
   "metadata": {},
   "outputs": [],
   "source": [
    "df_users['gender'] = df_users['gender'].astype('string')\n",
    "df_users['address'] = df_users['address'].astype('string')\n",
    "\n",
    "df_users['per_capita_income'] = df_users['per_capita_income'].str.replace('$', '').astype(int)\n",
    "df_users['yearly_income'] = df_users['yearly_income'].str.replace('$', '').astype(int)\n",
    "df_users['total_debt'] = df_users['total_debt'].str.replace('$', '').astype(int)"
   ]
  },
  {
   "cell_type": "code",
   "execution_count": 24,
   "id": "46ecf54d",
   "metadata": {},
   "outputs": [
    {
     "data": {
      "text/plain": [
       "id                            int64\n",
       "current_age                   int64\n",
       "retirement_age                int64\n",
       "birth_year                    int64\n",
       "birth_month                   int64\n",
       "gender               string[python]\n",
       "address              string[python]\n",
       "latitude                    float64\n",
       "longitude                   float64\n",
       "per_capita_income             int64\n",
       "yearly_income                 int64\n",
       "total_debt                    int64\n",
       "credit_score                  int64\n",
       "num_credit_cards              int64\n",
       "dtype: object"
      ]
     },
     "execution_count": 24,
     "metadata": {},
     "output_type": "execute_result"
    }
   ],
   "source": [
    "# Conferindo se todos os tipos estao corretos\n",
    "df_users.dtypes"
   ]
  },
  {
   "cell_type": "code",
   "execution_count": 25,
   "id": "61284986",
   "metadata": {},
   "outputs": [
    {
     "data": {
      "text/plain": [
       "([0, 1, 2, 3, 4, 5, 6],\n",
       " [Text(0, 0, 'current_age'),\n",
       "  Text(1, 0, 'retirement_age'),\n",
       "  Text(2, 0, 'per_capita_income'),\n",
       "  Text(3, 0, 'yearly_income'),\n",
       "  Text(4, 0, 'total_debt'),\n",
       "  Text(5, 0, 'credit_score'),\n",
       "  Text(6, 0, 'num_credit_cards')])"
      ]
     },
     "execution_count": 25,
     "metadata": {},
     "output_type": "execute_result"
    },
    {
     "data": {
      "image/png": "[encoded data removed]",
      "text/plain": [
       "<Figure size 640x480 with 1 Axes>"
      ]
     },
     "metadata": {},
     "output_type": "display_data"
    }
   ],
   "source": [
    "# Analisando outliers \n",
    "numeric_cols = [\n",
    "    'current_age',\n",
    "    'retirement_age',\n",
    "    'per_capita_income',\n",
    "    'yearly_income',\n",
    "    'total_debt',\n",
    "    'credit_score',\n",
    "    'num_credit_cards'\n",
    "]\n",
    "\n",
    "sns.boxplot(\n",
    "    data = df_users[numeric_cols]\n",
    ")\n",
    "plt.xticks(rotation=45)"
   ]
  },
  {
   "cell_type": "code",
   "execution_count": 26,
   "id": "2bac0279",
   "metadata": {},
   "outputs": [],
   "source": [
    "# Tratando os outliers\n",
    "\n",
    "mask = pd.Series(True, index=df_users.index)\n",
    "\n",
    "for col in numeric_cols:\n",
    "    Q1, Q3 = df_users[col].quantile(0.25), df_users[col].quantile(0.75)\n",
    "    IQR = Q3 - Q1 \n",
    "    lbo = Q1 - 1.5 * IQR\n",
    "    ubo = Q3 + 1.5 * IQR \n",
    "    \n",
    "    mask &= df_users[col].between(lbo, ubo)\n",
    "\n",
    "df_users = df_users[mask]"
   ]
  },
  {
   "cell_type": "code",
   "execution_count": 27,
   "id": "8e8e00dd",
   "metadata": {},
   "outputs": [
    {
     "data": {
      "text/plain": [
       "22358"
      ]
     },
     "execution_count": 27,
     "metadata": {},
     "output_type": "execute_result"
    },
    {
     "data": {
      "image/png": "[encoded data removed]",
      "text/plain": [
       "<Figure size 640x480 with 1 Axes>"
      ]
     },
     "metadata": {},
     "output_type": "display_data"
    }
   ],
   "source": [
    "# Analisando apos a remocao dos outliers\n",
    "sns.boxplot(\n",
    "    data = df_users[numeric_cols]\n",
    ")\n",
    "plt.xticks(rotation=45)\n",
    "df_users.size"
   ]
  },
  {
   "cell_type": "code",
   "execution_count": 28,
   "id": "134d20bf",
   "metadata": {},
   "outputs": [
    {
     "data": {
      "text/plain": [
       "<Axes: xlabel='credit_score', ylabel='Count'>"
      ]
     },
     "execution_count": 28,
     "metadata": {},
     "output_type": "execute_result"
    },
    {
     "data": {
      "image/png": "[encoded data removed]",
      "text/plain": [
       "<Figure size 640x480 with 1 Axes>"
      ]
     },
     "metadata": {},
     "output_type": "display_data"
    }
   ],
   "source": [
    "# Grafico 1 - Score de credito por genero \n",
    "\n",
    "sns.histplot(\n",
    "    data=df_users,\n",
    "    x = 'credit_score',\n",
    "    hue = 'gender',\n",
    "    multiple='stack',\n",
    "    kde=True\n",
    ")"
   ]
  },
  {
   "cell_type": "code",
   "execution_count": 29,
   "id": "96bb49d7",
   "metadata": {},
   "outputs": [
    {
     "data": {
      "text/plain": [
       "<Axes: xlabel='num_credit_cards', ylabel='Count'>"
      ]
     },
     "execution_count": 29,
     "metadata": {},
     "output_type": "execute_result"
    },
    {
     "data": {
      "image/png": "[encoded data removed]",
      "text/plain": [
       "<Figure size 640x480 with 1 Axes>"
      ]
     },
     "metadata": {},
     "output_type": "display_data"
    }
   ],
   "source": [
    "# Grafico 2 - Quantidade de cartoes de credito por genero \n",
    "\n",
    "sns.histplot(\n",
    "    data = df_users,\n",
    "    x = 'num_credit_cards',\n",
    "    hue = 'gender',\n",
    "    multiple='stack'\n",
    ")"
   ]
  },
  {
   "cell_type": "code",
   "execution_count": 30,
   "id": "b7824255",
   "metadata": {},
   "outputs": [
    {
     "data": {
      "text/plain": [
       "<Axes: xlabel='yearly_income', ylabel='Count'>"
      ]
     },
     "execution_count": 30,
     "metadata": {},
     "output_type": "execute_result"
    },
    {
     "data": {
      "image/png": "[encoded data removed]",
      "text/plain": [
       "<Figure size 640x480 with 1 Axes>"
      ]
     },
     "metadata": {},
     "output_type": "display_data"
    }
   ],
   "source": [
    "# Grafico 3 - Ganhos anuais por genero \n",
    "\n",
    "sns.histplot(\n",
    "    data = df_users,\n",
    "    x = 'yearly_income',\n",
    "    hue = 'gender',\n",
    "    multiple='stack'\n",
    ")"
   ]
  },
  {
   "cell_type": "code",
   "execution_count": 31,
   "id": "9cc4e969",
   "metadata": {},
   "outputs": [
    {
     "data": {
      "text/plain": [
       "<Axes: xlabel='yearly_income', ylabel='total_debt'>"
      ]
     },
     "execution_count": 31,
     "metadata": {},
     "output_type": "execute_result"
    },
    {
     "data": {
      "image/png": "[encoded data removed]",
      "text/plain": [
       "<Figure size 640x480 with 1 Axes>"
      ]
     },
     "metadata": {},
     "output_type": "display_data"
    }
   ],
   "source": [
    "# Grafico 4 - Grafico de ganhos anuais por divida total \n",
    "\n",
    "sns.regplot(\n",
    "    data = df_users,\n",
    "    x = 'yearly_income',\n",
    "    y = 'total_debt',\n",
    "    color='green'\n",
    ")"
   ]
  },
  {
   "cell_type": "markdown",
   "id": "5964a84d",
   "metadata": {},
   "source": [
    "## Analise da planilha cards_data.csv"
   ]
  },
  {
   "cell_type": "code",
   "execution_count": 32,
   "id": "49a07448",
   "metadata": {},
   "outputs": [
    {
     "name": "stdout",
     "output_type": "stream",
     "text": [
      "<class 'pandas.core.frame.DataFrame'>\n",
      "RangeIndex: 6146 entries, 0 to 6145\n",
      "Data columns (total 13 columns):\n",
      " #   Column                 Non-Null Count  Dtype \n",
      "---  ------                 --------------  ----- \n",
      " 0   id                     6146 non-null   int64 \n",
      " 1   client_id              6146 non-null   int64 \n",
      " 2   card_brand             6146 non-null   object\n",
      " 3   card_type              6146 non-null   object\n",
      " 4   card_number            6146 non-null   int64 \n",
      " 5   expires                6146 non-null   object\n",
      " 6   cvv                    6146 non-null   int64 \n",
      " 7   has_chip               6146 non-null   object\n",
      " 8   num_cards_issued       6146 non-null   int64 \n",
      " 9   credit_limit           6146 non-null   object\n",
      " 10  acct_open_date         6146 non-null   object\n",
      " 11  year_pin_last_changed  6146 non-null   int64 \n",
      " 12  card_on_dark_web       6146 non-null   object\n",
      "dtypes: int64(6), object(7)\n",
      "memory usage: 624.3+ KB\n"
     ]
    }
   ],
   "source": [
    "df_cards.info()"
   ]
  },
  {
   "cell_type": "code",
   "execution_count": 33,
   "id": "dfbc3cdd",
   "metadata": {},
   "outputs": [
    {
     "data": {
      "text/html": [
       "<div>\n",
       "<style scoped>\n",
       "    .dataframe tbody tr th:only-of-type {\n",
       "        vertical-align: middle;\n",
       "    }\n",
       "\n",
       "    .dataframe tbody tr th {\n",
       "        vertical-align: top;\n",
       "    }\n",
       "\n",
       "    .dataframe thead th {\n",
       "        text-align: right;\n",
       "    }\n",
       "</style>\n",
       "<table border=\"1\" class=\"dataframe\">\n",
       "  <thead>\n",
       "    <tr style=\"text-align: right;\">\n",
       "      <th></th>\n",
       "      <th>id</th>\n",
       "      <th>client_id</th>\n",
       "      <th>card_number</th>\n",
       "      <th>cvv</th>\n",
       "      <th>num_cards_issued</th>\n",
       "      <th>year_pin_last_changed</th>\n",
       "    </tr>\n",
       "  </thead>\n",
       "  <tbody>\n",
       "    <tr>\n",
       "      <th>count</th>\n",
       "      <td>6146.000000</td>\n",
       "      <td>6146.000000</td>\n",
       "      <td>6.146000e+03</td>\n",
       "      <td>6146.000000</td>\n",
       "      <td>6146.000000</td>\n",
       "      <td>6146.000000</td>\n",
       "    </tr>\n",
       "    <tr>\n",
       "      <th>mean</th>\n",
       "      <td>3072.500000</td>\n",
       "      <td>994.939636</td>\n",
       "      <td>4.820426e+15</td>\n",
       "      <td>506.220794</td>\n",
       "      <td>1.503091</td>\n",
       "      <td>2013.436707</td>\n",
       "    </tr>\n",
       "    <tr>\n",
       "      <th>std</th>\n",
       "      <td>1774.341709</td>\n",
       "      <td>578.614626</td>\n",
       "      <td>1.328582e+15</td>\n",
       "      <td>289.431123</td>\n",
       "      <td>0.519191</td>\n",
       "      <td>4.270699</td>\n",
       "    </tr>\n",
       "    <tr>\n",
       "      <th>min</th>\n",
       "      <td>0.000000</td>\n",
       "      <td>0.000000</td>\n",
       "      <td>3.001055e+14</td>\n",
       "      <td>0.000000</td>\n",
       "      <td>1.000000</td>\n",
       "      <td>2002.000000</td>\n",
       "    </tr>\n",
       "    <tr>\n",
       "      <th>25%</th>\n",
       "      <td>1536.250000</td>\n",
       "      <td>492.250000</td>\n",
       "      <td>4.486365e+15</td>\n",
       "      <td>257.000000</td>\n",
       "      <td>1.000000</td>\n",
       "      <td>2010.000000</td>\n",
       "    </tr>\n",
       "    <tr>\n",
       "      <th>50%</th>\n",
       "      <td>3072.500000</td>\n",
       "      <td>992.000000</td>\n",
       "      <td>5.108957e+15</td>\n",
       "      <td>516.500000</td>\n",
       "      <td>1.000000</td>\n",
       "      <td>2013.000000</td>\n",
       "    </tr>\n",
       "    <tr>\n",
       "      <th>75%</th>\n",
       "      <td>4608.750000</td>\n",
       "      <td>1495.000000</td>\n",
       "      <td>5.585237e+15</td>\n",
       "      <td>756.000000</td>\n",
       "      <td>2.000000</td>\n",
       "      <td>2017.000000</td>\n",
       "    </tr>\n",
       "    <tr>\n",
       "      <th>max</th>\n",
       "      <td>6145.000000</td>\n",
       "      <td>1999.000000</td>\n",
       "      <td>6.997197e+15</td>\n",
       "      <td>999.000000</td>\n",
       "      <td>3.000000</td>\n",
       "      <td>2020.000000</td>\n",
       "    </tr>\n",
       "  </tbody>\n",
       "</table>\n",
       "</div>"
      ],
      "text/plain": [
       "                id    client_id   card_number          cvv  num_cards_issued  \\\n",
       "count  6146.000000  6146.000000  6.146000e+03  6146.000000       6146.000000   \n",
       "mean   3072.500000   994.939636  4.820426e+15   506.220794          1.503091   \n",
       "std    1774.341709   578.614626  1.328582e+15   289.431123          0.519191   \n",
       "min       0.000000     0.000000  3.001055e+14     0.000000          1.000000   \n",
       "25%    1536.250000   492.250000  4.486365e+15   257.000000          1.000000   \n",
       "50%    3072.500000   992.000000  5.108957e+15   516.500000          1.000000   \n",
       "75%    4608.750000  1495.000000  5.585237e+15   756.000000          2.000000   \n",
       "max    6145.000000  1999.000000  6.997197e+15   999.000000          3.000000   \n",
       "\n",
       "       year_pin_last_changed  \n",
       "count            6146.000000  \n",
       "mean             2013.436707  \n",
       "std                 4.270699  \n",
       "min              2002.000000  \n",
       "25%              2010.000000  \n",
       "50%              2013.000000  \n",
       "75%              2017.000000  \n",
       "max              2020.000000  "
      ]
     },
     "execution_count": 33,
     "metadata": {},
     "output_type": "execute_result"
    }
   ],
   "source": [
    "df_cards.describe()"
   ]
  },
  {
   "cell_type": "code",
   "execution_count": 34,
   "id": "f4897bde",
   "metadata": {},
   "outputs": [
    {
     "data": {
      "text/html": [
       "<div>\n",
       "<style scoped>\n",
       "    .dataframe tbody tr th:only-of-type {\n",
       "        vertical-align: middle;\n",
       "    }\n",
       "\n",
       "    .dataframe tbody tr th {\n",
       "        vertical-align: top;\n",
       "    }\n",
       "\n",
       "    .dataframe thead th {\n",
       "        text-align: right;\n",
       "    }\n",
       "</style>\n",
       "<table border=\"1\" class=\"dataframe\">\n",
       "  <thead>\n",
       "    <tr style=\"text-align: right;\">\n",
       "      <th></th>\n",
       "      <th>id</th>\n",
       "      <th>client_id</th>\n",
       "      <th>card_brand</th>\n",
       "      <th>card_type</th>\n",
       "      <th>card_number</th>\n",
       "      <th>expires</th>\n",
       "      <th>cvv</th>\n",
       "      <th>has_chip</th>\n",
       "      <th>num_cards_issued</th>\n",
       "      <th>credit_limit</th>\n",
       "      <th>acct_open_date</th>\n",
       "      <th>year_pin_last_changed</th>\n",
       "      <th>card_on_dark_web</th>\n",
       "    </tr>\n",
       "  </thead>\n",
       "  <tbody>\n",
       "    <tr>\n",
       "      <th>0</th>\n",
       "      <td>4524</td>\n",
       "      <td>825</td>\n",
       "      <td>Visa</td>\n",
       "      <td>Debit</td>\n",
       "      <td>4344676511950444</td>\n",
       "      <td>12/2022</td>\n",
       "      <td>623</td>\n",
       "      <td>YES</td>\n",
       "      <td>2</td>\n",
       "      <td>$24295</td>\n",
       "      <td>09/2002</td>\n",
       "      <td>2008</td>\n",
       "      <td>No</td>\n",
       "    </tr>\n",
       "    <tr>\n",
       "      <th>1</th>\n",
       "      <td>2731</td>\n",
       "      <td>825</td>\n",
       "      <td>Visa</td>\n",
       "      <td>Debit</td>\n",
       "      <td>4956965974959986</td>\n",
       "      <td>12/2020</td>\n",
       "      <td>393</td>\n",
       "      <td>YES</td>\n",
       "      <td>2</td>\n",
       "      <td>$21968</td>\n",
       "      <td>04/2014</td>\n",
       "      <td>2014</td>\n",
       "      <td>No</td>\n",
       "    </tr>\n",
       "    <tr>\n",
       "      <th>2</th>\n",
       "      <td>3701</td>\n",
       "      <td>825</td>\n",
       "      <td>Visa</td>\n",
       "      <td>Debit</td>\n",
       "      <td>4582313478255491</td>\n",
       "      <td>02/2024</td>\n",
       "      <td>719</td>\n",
       "      <td>YES</td>\n",
       "      <td>2</td>\n",
       "      <td>$46414</td>\n",
       "      <td>07/2003</td>\n",
       "      <td>2004</td>\n",
       "      <td>No</td>\n",
       "    </tr>\n",
       "    <tr>\n",
       "      <th>3</th>\n",
       "      <td>42</td>\n",
       "      <td>825</td>\n",
       "      <td>Visa</td>\n",
       "      <td>Credit</td>\n",
       "      <td>4879494103069057</td>\n",
       "      <td>08/2024</td>\n",
       "      <td>693</td>\n",
       "      <td>NO</td>\n",
       "      <td>1</td>\n",
       "      <td>$12400</td>\n",
       "      <td>01/2003</td>\n",
       "      <td>2012</td>\n",
       "      <td>No</td>\n",
       "    </tr>\n",
       "    <tr>\n",
       "      <th>4</th>\n",
       "      <td>4659</td>\n",
       "      <td>825</td>\n",
       "      <td>Mastercard</td>\n",
       "      <td>Debit (Prepaid)</td>\n",
       "      <td>5722874738736011</td>\n",
       "      <td>03/2009</td>\n",
       "      <td>75</td>\n",
       "      <td>YES</td>\n",
       "      <td>1</td>\n",
       "      <td>$28</td>\n",
       "      <td>09/2008</td>\n",
       "      <td>2009</td>\n",
       "      <td>No</td>\n",
       "    </tr>\n",
       "  </tbody>\n",
       "</table>\n",
       "</div>"
      ],
      "text/plain": [
       "     id  client_id  card_brand        card_type       card_number  expires  \\\n",
       "0  4524        825        Visa            Debit  4344676511950444  12/2022   \n",
       "1  2731        825        Visa            Debit  4956965974959986  12/2020   \n",
       "2  3701        825        Visa            Debit  4582313478255491  02/2024   \n",
       "3    42        825        Visa           Credit  4879494103069057  08/2024   \n",
       "4  4659        825  Mastercard  Debit (Prepaid)  5722874738736011  03/2009   \n",
       "\n",
       "   cvv has_chip  num_cards_issued credit_limit acct_open_date  \\\n",
       "0  623      YES                 2       $24295        09/2002   \n",
       "1  393      YES                 2       $21968        04/2014   \n",
       "2  719      YES                 2       $46414        07/2003   \n",
       "3  693       NO                 1       $12400        01/2003   \n",
       "4   75      YES                 1          $28        09/2008   \n",
       "\n",
       "   year_pin_last_changed card_on_dark_web  \n",
       "0                   2008               No  \n",
       "1                   2014               No  \n",
       "2                   2004               No  \n",
       "3                   2012               No  \n",
       "4                   2009               No  "
      ]
     },
     "execution_count": 34,
     "metadata": {},
     "output_type": "execute_result"
    }
   ],
   "source": [
    "df_cards.head()"
   ]
  },
  {
   "cell_type": "code",
   "execution_count": 35,
   "id": "031c67cd",
   "metadata": {},
   "outputs": [
    {
     "data": {
      "text/plain": [
       "(id                       0\n",
       " client_id                0\n",
       " card_brand               0\n",
       " card_type                0\n",
       " card_number              0\n",
       " expires                  0\n",
       " cvv                      0\n",
       " has_chip                 0\n",
       " num_cards_issued         0\n",
       " credit_limit             0\n",
       " acct_open_date           0\n",
       " year_pin_last_changed    0\n",
       " card_on_dark_web         0\n",
       " dtype: int64,\n",
       " np.int64(0))"
      ]
     },
     "execution_count": 35,
     "metadata": {},
     "output_type": "execute_result"
    }
   ],
   "source": [
    "df_cards.isna().sum(), df_cards.duplicated().sum()"
   ]
  },
  {
   "cell_type": "code",
   "execution_count": 36,
   "id": "1ae6da3a",
   "metadata": {},
   "outputs": [],
   "source": [
    "df_cards['credit_limit'] = df_cards['credit_limit'].str.replace('$', \"\").astype(float)"
   ]
  },
  {
   "cell_type": "code",
   "execution_count": 37,
   "id": "b7425d8c",
   "metadata": {},
   "outputs": [
    {
     "name": "stdout",
     "output_type": "stream",
     "text": [
      "<class 'pandas.core.frame.DataFrame'>\n",
      "RangeIndex: 6146 entries, 0 to 6145\n",
      "Data columns (total 13 columns):\n",
      " #   Column                 Non-Null Count  Dtype  \n",
      "---  ------                 --------------  -----  \n",
      " 0   id                     6146 non-null   int64  \n",
      " 1   client_id              6146 non-null   int64  \n",
      " 2   card_brand             6146 non-null   object \n",
      " 3   card_type              6146 non-null   object \n",
      " 4   card_number            6146 non-null   int64  \n",
      " 5   expires                6146 non-null   object \n",
      " 6   cvv                    6146 non-null   int64  \n",
      " 7   has_chip               6146 non-null   object \n",
      " 8   num_cards_issued       6146 non-null   int64  \n",
      " 9   credit_limit           6146 non-null   float64\n",
      " 10  acct_open_date         6146 non-null   object \n",
      " 11  year_pin_last_changed  6146 non-null   int64  \n",
      " 12  card_on_dark_web       6146 non-null   object \n",
      "dtypes: float64(1), int64(6), object(6)\n",
      "memory usage: 624.3+ KB\n"
     ]
    }
   ],
   "source": [
    "df_cards.info()"
   ]
  },
  {
   "cell_type": "code",
   "execution_count": 38,
   "id": "55d61f28",
   "metadata": {},
   "outputs": [
    {
     "data": {
      "text/plain": [
       "<Axes: xlabel='card_brand', ylabel='count'>"
      ]
     },
     "execution_count": 38,
     "metadata": {},
     "output_type": "execute_result"
    },
    {
     "data": {
      "image/png": "[encoded data removed]",
      "text/plain": [
       "<Figure size 640x480 with 1 Axes>"
      ]
     },
     "metadata": {},
     "output_type": "display_data"
    }
   ],
   "source": [
    "# Grafico 01 - Bandeiras de cartao por tipo de cartao\n",
    "\n",
    "sns.countplot(\n",
    "    data = df_cards,\n",
    "    x = 'card_brand',\n",
    "    hue = 'card_type'\n",
    ")"
   ]
  },
  {
   "cell_type": "code",
   "execution_count": 39,
   "id": "229c61de",
   "metadata": {},
   "outputs": [
    {
     "data": {
      "text/plain": [
       "<Axes: xlabel='has_chip', ylabel='count'>"
      ]
     },
     "execution_count": 39,
     "metadata": {},
     "output_type": "execute_result"
    },
    {
     "data": {
      "image/png": "[encoded data removed]",
      "text/plain": [
       "<Figure size 640x480 with 1 Axes>"
      ]
     },
     "metadata": {},
     "output_type": "display_data"
    }
   ],
   "source": [
    "# Grafico 2 - Cartoes com chip vs sem chip\n",
    "  \n",
    "sns.countplot(data=df_cards, x='has_chip')"
   ]
  },
  {
   "cell_type": "code",
   "execution_count": 40,
   "id": "b0b8b5bc",
   "metadata": {},
   "outputs": [
    {
     "data": {
      "text/plain": [
       "<Axes: xlabel='card_on_dark_web', ylabel='count'>"
      ]
     },
     "execution_count": 40,
     "metadata": {},
     "output_type": "execute_result"
    },
    {
     "data": {
      "image/png": "[encoded data removed]",
      "text/plain": [
       "<Figure size 640x480 with 1 Axes>"
      ]
     },
     "metadata": {},
     "output_type": "display_data"
    }
   ],
   "source": [
    "# Grafico 3 - Cartoes encontrados na Dark Web \n",
    "\n",
    "sns.countplot(\n",
    "    data = df_cards,\n",
    "    x = 'card_on_dark_web'\n",
    ")"
   ]
  },
  {
   "cell_type": "code",
   "execution_count": 41,
   "id": "f2fa94d5",
   "metadata": {},
   "outputs": [
    {
     "data": {
      "text/plain": [
       "<Axes: xlabel='credit_limit', ylabel='Count'>"
      ]
     },
     "execution_count": 41,
     "metadata": {},
     "output_type": "execute_result"
    },
    {
     "data": {
      "image/png": "[encoded data removed]",
      "text/plain": [
       "<Figure size 640x480 with 1 Axes>"
      ]
     },
     "metadata": {},
     "output_type": "display_data"
    }
   ],
   "source": [
    "# Grafico 4 - Distribuicao de cartoes por limite de credito\n",
    "\n",
    "sns.histplot(data=df_cards, x='credit_limit', kde=True, bins=30, color='teal')"
   ]
  },
  {
   "cell_type": "code",
   "execution_count": 42,
   "id": "556a0b2e",
   "metadata": {},
   "outputs": [
    {
     "data": {
      "text/plain": [
       "<Axes: xlabel='num_cards_issued', ylabel='credit_limit'>"
      ]
     },
     "execution_count": 42,
     "metadata": {},
     "output_type": "execute_result"
    },
    {
     "data": {
      "image/png": "[encoded data removed]",
      "text/plain": [
       "<Figure size 640x480 with 1 Axes>"
      ]
     },
     "metadata": {},
     "output_type": "display_data"
    }
   ],
   "source": [
    "# Grafico 5 - Clientes com mais cartoes tem maior limite? \n",
    "\n",
    "sns.boxplot(\n",
    "    data = df_cards,\n",
    "    x = 'num_cards_issued',\n",
    "    y = 'credit_limit'\n",
    ")"
   ]
  },
  {
   "cell_type": "code",
   "execution_count": 43,
   "id": "86ddb9da",
   "metadata": {},
   "outputs": [
    {
     "data": {
      "text/html": [
       "<div>\n",
       "<style scoped>\n",
       "    .dataframe tbody tr th:only-of-type {\n",
       "        vertical-align: middle;\n",
       "    }\n",
       "\n",
       "    .dataframe tbody tr th {\n",
       "        vertical-align: top;\n",
       "    }\n",
       "\n",
       "    .dataframe thead th {\n",
       "        text-align: right;\n",
       "    }\n",
       "</style>\n",
       "<table border=\"1\" class=\"dataframe\">\n",
       "  <thead>\n",
       "    <tr style=\"text-align: right;\">\n",
       "      <th></th>\n",
       "      <th>MCC_Code</th>\n",
       "      <th>Description</th>\n",
       "    </tr>\n",
       "  </thead>\n",
       "  <tbody>\n",
       "    <tr>\n",
       "      <th>0</th>\n",
       "      <td>5812</td>\n",
       "      <td>Eating Places and Restaurants</td>\n",
       "    </tr>\n",
       "    <tr>\n",
       "      <th>1</th>\n",
       "      <td>5541</td>\n",
       "      <td>Service Stations</td>\n",
       "    </tr>\n",
       "    <tr>\n",
       "      <th>2</th>\n",
       "      <td>7996</td>\n",
       "      <td>Amusement Parks, Carnivals, Circuses</td>\n",
       "    </tr>\n",
       "    <tr>\n",
       "      <th>3</th>\n",
       "      <td>5411</td>\n",
       "      <td>Grocery Stores, Supermarkets</td>\n",
       "    </tr>\n",
       "    <tr>\n",
       "      <th>4</th>\n",
       "      <td>4784</td>\n",
       "      <td>Tolls and Bridge Fees</td>\n",
       "    </tr>\n",
       "    <tr>\n",
       "      <th>...</th>\n",
       "      <td>...</td>\n",
       "      <td>...</td>\n",
       "    </tr>\n",
       "    <tr>\n",
       "      <th>104</th>\n",
       "      <td>7549</td>\n",
       "      <td>Towing Services</td>\n",
       "    </tr>\n",
       "    <tr>\n",
       "      <th>105</th>\n",
       "      <td>5941</td>\n",
       "      <td>Sporting Goods Stores</td>\n",
       "    </tr>\n",
       "    <tr>\n",
       "      <th>106</th>\n",
       "      <td>5722</td>\n",
       "      <td>Household Appliance Stores</td>\n",
       "    </tr>\n",
       "    <tr>\n",
       "      <th>107</th>\n",
       "      <td>3009</td>\n",
       "      <td>Fabricated Structural Metal Products</td>\n",
       "    </tr>\n",
       "    <tr>\n",
       "      <th>108</th>\n",
       "      <td>5733</td>\n",
       "      <td>Music Stores - Musical Instruments</td>\n",
       "    </tr>\n",
       "  </tbody>\n",
       "</table>\n",
       "<p>109 rows × 2 columns</p>\n",
       "</div>"
      ],
      "text/plain": [
       "     MCC_Code                           Description\n",
       "0        5812         Eating Places and Restaurants\n",
       "1        5541                      Service Stations\n",
       "2        7996  Amusement Parks, Carnivals, Circuses\n",
       "3        5411          Grocery Stores, Supermarkets\n",
       "4        4784                 Tolls and Bridge Fees\n",
       "..        ...                                   ...\n",
       "104      7549                       Towing Services\n",
       "105      5941                 Sporting Goods Stores\n",
       "106      5722            Household Appliance Stores\n",
       "107      3009  Fabricated Structural Metal Products\n",
       "108      5733    Music Stores - Musical Instruments\n",
       "\n",
       "[109 rows x 2 columns]"
      ]
     },
     "execution_count": 43,
     "metadata": {},
     "output_type": "execute_result"
    }
   ],
   "source": [
    "df_mcc.reset_index(inplace=True)\n",
    "df_mcc.columns = [\"MCC_Code\", \"Description\"]\n",
    "df_mcc"
   ]
  },
  {
   "cell_type": "code",
   "execution_count": 44,
   "id": "5bec7075",
   "metadata": {},
   "outputs": [
    {
     "name": "stdout",
     "output_type": "stream",
     "text": [
      "<class 'pandas.core.frame.DataFrame'>\n",
      "RangeIndex: 109 entries, 0 to 108\n",
      "Data columns (total 2 columns):\n",
      " #   Column       Non-Null Count  Dtype \n",
      "---  ------       --------------  ----- \n",
      " 0   MCC_Code     109 non-null    int64 \n",
      " 1   Description  109 non-null    object\n",
      "dtypes: int64(1), object(1)\n",
      "memory usage: 1.8+ KB\n"
     ]
    }
   ],
   "source": [
    "df_mcc.info()"
   ]
  },
  {
   "cell_type": "code",
   "execution_count": 45,
   "id": "df072550",
   "metadata": {},
   "outputs": [],
   "source": [
    "df_fraud_labels.reset_index(inplace=True)"
   ]
  },
  {
   "cell_type": "code",
   "execution_count": 46,
   "id": "594d6c01",
   "metadata": {},
   "outputs": [],
   "source": [
    "df_fraud_labels.columns = [\"id\", \"Target\"]"
   ]
  },
  {
   "cell_type": "code",
   "execution_count": 47,
   "id": "6dddaab7",
   "metadata": {},
   "outputs": [
    {
     "data": {
      "text/html": [
       "<div>\n",
       "<style scoped>\n",
       "    .dataframe tbody tr th:only-of-type {\n",
       "        vertical-align: middle;\n",
       "    }\n",
       "\n",
       "    .dataframe tbody tr th {\n",
       "        vertical-align: top;\n",
       "    }\n",
       "\n",
       "    .dataframe thead th {\n",
       "        text-align: right;\n",
       "    }\n",
       "</style>\n",
       "<table border=\"1\" class=\"dataframe\">\n",
       "  <thead>\n",
       "    <tr style=\"text-align: right;\">\n",
       "      <th></th>\n",
       "      <th>id</th>\n",
       "      <th>Target</th>\n",
       "    </tr>\n",
       "  </thead>\n",
       "  <tbody>\n",
       "    <tr>\n",
       "      <th>0</th>\n",
       "      <td>10649266</td>\n",
       "      <td>No</td>\n",
       "    </tr>\n",
       "    <tr>\n",
       "      <th>1</th>\n",
       "      <td>23410063</td>\n",
       "      <td>No</td>\n",
       "    </tr>\n",
       "    <tr>\n",
       "      <th>2</th>\n",
       "      <td>9316588</td>\n",
       "      <td>No</td>\n",
       "    </tr>\n",
       "    <tr>\n",
       "      <th>3</th>\n",
       "      <td>12478022</td>\n",
       "      <td>No</td>\n",
       "    </tr>\n",
       "    <tr>\n",
       "      <th>4</th>\n",
       "      <td>9558530</td>\n",
       "      <td>No</td>\n",
       "    </tr>\n",
       "    <tr>\n",
       "      <th>...</th>\n",
       "      <td>...</td>\n",
       "      <td>...</td>\n",
       "    </tr>\n",
       "    <tr>\n",
       "      <th>8914958</th>\n",
       "      <td>14064699</td>\n",
       "      <td>No</td>\n",
       "    </tr>\n",
       "    <tr>\n",
       "      <th>8914959</th>\n",
       "      <td>7676538</td>\n",
       "      <td>No</td>\n",
       "    </tr>\n",
       "    <tr>\n",
       "      <th>8914960</th>\n",
       "      <td>15131030</td>\n",
       "      <td>No</td>\n",
       "    </tr>\n",
       "    <tr>\n",
       "      <th>8914961</th>\n",
       "      <td>17244732</td>\n",
       "      <td>No</td>\n",
       "    </tr>\n",
       "    <tr>\n",
       "      <th>8914962</th>\n",
       "      <td>15151926</td>\n",
       "      <td>No</td>\n",
       "    </tr>\n",
       "  </tbody>\n",
       "</table>\n",
       "<p>8914963 rows × 2 columns</p>\n",
       "</div>"
      ],
      "text/plain": [
       "               id Target\n",
       "0        10649266     No\n",
       "1        23410063     No\n",
       "2         9316588     No\n",
       "3        12478022     No\n",
       "4         9558530     No\n",
       "...           ...    ...\n",
       "8914958  14064699     No\n",
       "8914959   7676538     No\n",
       "8914960  15131030     No\n",
       "8914961  17244732     No\n",
       "8914962  15151926     No\n",
       "\n",
       "[8914963 rows x 2 columns]"
      ]
     },
     "execution_count": 47,
     "metadata": {},
     "output_type": "execute_result"
    }
   ],
   "source": [
    "df_fraud_labels"
   ]
  },
  {
   "cell_type": "code",
   "execution_count": 48,
   "id": "43902052",
   "metadata": {},
   "outputs": [
    {
     "data": {
      "text/html": [
       "<div>\n",
       "<style scoped>\n",
       "    .dataframe tbody tr th:only-of-type {\n",
       "        vertical-align: middle;\n",
       "    }\n",
       "\n",
       "    .dataframe tbody tr th {\n",
       "        vertical-align: top;\n",
       "    }\n",
       "\n",
       "    .dataframe thead th {\n",
       "        text-align: right;\n",
       "    }\n",
       "</style>\n",
       "<table border=\"1\" class=\"dataframe\">\n",
       "  <thead>\n",
       "    <tr style=\"text-align: right;\">\n",
       "      <th></th>\n",
       "      <th>Target</th>\n",
       "    </tr>\n",
       "  </thead>\n",
       "  <tbody>\n",
       "    <tr>\n",
       "      <th>count</th>\n",
       "      <td>8914963</td>\n",
       "    </tr>\n",
       "    <tr>\n",
       "      <th>unique</th>\n",
       "      <td>2</td>\n",
       "    </tr>\n",
       "    <tr>\n",
       "      <th>top</th>\n",
       "      <td>No</td>\n",
       "    </tr>\n",
       "    <tr>\n",
       "      <th>freq</th>\n",
       "      <td>8901631</td>\n",
       "    </tr>\n",
       "  </tbody>\n",
       "</table>\n",
       "</div>"
      ],
      "text/plain": [
       "         Target\n",
       "count   8914963\n",
       "unique        2\n",
       "top          No\n",
       "freq    8901631"
      ]
     },
     "execution_count": 48,
     "metadata": {},
     "output_type": "execute_result"
    }
   ],
   "source": [
    "df_fraud_labels[['Target']].describe()"
   ]
  },
  {
   "cell_type": "code",
   "execution_count": 49,
   "id": "2ff8d456",
   "metadata": {},
   "outputs": [
    {
     "data": {
      "text/plain": [
       "Target\n",
       "No     8901631\n",
       "Yes      13332\n",
       "Name: count, dtype: int64"
      ]
     },
     "execution_count": 49,
     "metadata": {},
     "output_type": "execute_result"
    }
   ],
   "source": [
    "df_fraud_labels['Target'].value_counts()"
   ]
  },
  {
   "cell_type": "code",
   "execution_count": 50,
   "id": "09a72969",
   "metadata": {},
   "outputs": [],
   "source": [
    "df_transactions.columns.to_list()\n",
    "df_transactions = df_transactions.rename(columns={\"id\": \"transaction_id\"})"
   ]
  },
  {
   "cell_type": "code",
   "execution_count": 51,
   "id": "d3583052",
   "metadata": {},
   "outputs": [
    {
     "data": {
      "text/plain": [
       "['transaction_id',\n",
       " 'date',\n",
       " 'client_id',\n",
       " 'card_id',\n",
       " 'amount',\n",
       " 'use_chip',\n",
       " 'merchant_id',\n",
       " 'merchant_city',\n",
       " 'merchant_state',\n",
       " 'zip',\n",
       " 'mcc',\n",
       " 'errors']"
      ]
     },
     "execution_count": 51,
     "metadata": {},
     "output_type": "execute_result"
    }
   ],
   "source": [
    "df_transactions.columns.to_list()"
   ]
  },
  {
   "cell_type": "code",
   "execution_count": 52,
   "id": "b86121ae",
   "metadata": {},
   "outputs": [
    {
     "data": {
      "text/plain": [
       "np.int64(23761874)"
      ]
     },
     "execution_count": 52,
     "metadata": {},
     "output_type": "execute_result"
    }
   ],
   "source": [
    "df_transactions.transaction_id.max()"
   ]
  },
  {
   "cell_type": "code",
   "execution_count": 53,
   "id": "605483b8",
   "metadata": {},
   "outputs": [
    {
     "name": "stdout",
     "output_type": "stream",
     "text": [
      "df_transactions - Tamanho ANTES: 3563.53 MB\n",
      "df_transactions - Tamanho DEPOIS: 573.56 MB\n",
      "Novos DTypes de df_transactions:\n",
      "transaction_id             int32\n",
      "date              datetime64[ns]\n",
      "client_id                  int32\n",
      "card_id                    int32\n",
      "amount                   float32\n",
      "use_chip                category\n",
      "merchant_id                int32\n",
      "merchant_city           category\n",
      "merchant_state          category\n",
      "zip                        Int32\n",
      "mcc                        int16\n",
      "errors                  category\n",
      "dtype: object\n",
      "------------------------------\n"
     ]
    }
   ],
   "source": [
    "df_transactions.dtypes\n",
    "\n",
    "print(f\"df_transactions - Tamanho ANTES: {df_transactions.memory_usage(deep=True).sum() / 1024**2:.2f} MB\")\n",
    "\n",
    "\n",
    "df_transactions = df_transactions.astype(\n",
    "    {\n",
    "        'transaction_id': 'int32',\n",
    "        'client_id': 'int32',\n",
    "        'card_id': 'int32',\n",
    "        'merchant_id': 'int32',\n",
    "        'amount': 'float32',\n",
    "        'mcc': 'int16',\n",
    "        'zip': 'Int32',\n",
    "        'use_chip': 'category',\n",
    "        'merchant_city': 'category',\n",
    "        'merchant_state': 'category',\n",
    "        'errors': 'category'\n",
    "    }\n",
    ")\n",
    "\n",
    "print(f\"df_transactions - Tamanho DEPOIS: {df_transactions.memory_usage(deep=True).sum() / 1024**2:.2f} MB\")\n",
    "print(f\"Novos DTypes de df_transactions:\\n{df_transactions.dtypes}\")\n",
    "print(\"-\" * 30)"
   ]
  },
  {
   "cell_type": "code",
   "execution_count": 54,
   "id": "0afe08d1",
   "metadata": {},
   "outputs": [
    {
     "data": {
      "text/plain": [
       "['card_id',\n",
       " 'client_id',\n",
       " 'card_brand',\n",
       " 'card_type',\n",
       " 'card_number',\n",
       " 'expires',\n",
       " 'cvv',\n",
       " 'has_chip',\n",
       " 'num_cards_issued',\n",
       " 'credit_limit',\n",
       " 'acct_open_date',\n",
       " 'year_pin_last_changed',\n",
       " 'card_on_dark_web']"
      ]
     },
     "execution_count": 54,
     "metadata": {},
     "output_type": "execute_result"
    }
   ],
   "source": [
    "df_cards.columns.to_list()\n",
    "df_cards = df_cards.rename(columns={\"id\": \"card_id\"})\n",
    "df_cards.columns.tolist()"
   ]
  },
  {
   "cell_type": "code",
   "execution_count": 55,
   "id": "23ea9f6d",
   "metadata": {},
   "outputs": [
    {
     "name": "stdout",
     "output_type": "stream",
     "text": [
      "df_cards - Tamanho ANTES: 2.24 MB\n",
      "df_cards - Tamanho DEPOIS: 0.26 MB\n",
      "Novos DTypes de df_cards:\n",
      "card_id                           int32\n",
      "client_id                         int32\n",
      "card_brand                     category\n",
      "card_type                      category\n",
      "card_number                       int64\n",
      "expires                  datetime64[ns]\n",
      "cvv                               int16\n",
      "has_chip                       category\n",
      "num_cards_issued                   int8\n",
      "credit_limit                    float32\n",
      "acct_open_date           datetime64[ns]\n",
      "year_pin_last_changed             int16\n",
      "card_on_dark_web               category\n",
      "dtype: object\n"
     ]
    },
    {
     "name": "stderr",
     "output_type": "stream",
     "text": [
      "/tmp/ipykernel_4967/2830870841.py:23: UserWarning: Could not infer format, so each element will be parsed individually, falling back to `dateutil`. To ensure parsing is consistent and as-expected, please specify a format.\n",
      "  df_cards['expires'] = pd.to_datetime(df_cards['expires'], errors='coerce')\n",
      "/tmp/ipykernel_4967/2830870841.py:24: UserWarning: Could not infer format, so each element will be parsed individually, falling back to `dateutil`. To ensure parsing is consistent and as-expected, please specify a format.\n",
      "  df_cards['acct_open_date'] = pd.to_datetime(df_cards['acct_open_date'], errors='coerce')\n"
     ]
    }
   ],
   "source": [
    "df_cards.dtypes\n",
    "\n",
    "print(f\"df_cards - Tamanho ANTES: {df_cards.memory_usage(deep=True).sum() / 1024**2:.2f} MB\")\n",
    "\n",
    "card_dtype_map = {\n",
    "    'card_id': 'int32',\n",
    "    'client_id': 'int32',\n",
    "    \n",
    "    'cvv': 'int16',\n",
    "    'num_cards_issued': 'int8',\n",
    "    'year_pin_last_changed': 'int16',\n",
    "    'credit_limit': 'float32',\n",
    "    'card_number': 'int64',\n",
    "    \n",
    "    'card_brand': 'category',\n",
    "    'card_type': 'category',\n",
    "    'has_chip': 'category',\n",
    "    'card_on_dark_web': 'category',\n",
    "}\n",
    "\n",
    "df_cards = df_cards.astype(card_dtype_map)\n",
    "\n",
    "df_cards['expires'] = pd.to_datetime(df_cards['expires'], errors='coerce')\n",
    "df_cards['acct_open_date'] = pd.to_datetime(df_cards['acct_open_date'], errors='coerce')\n",
    "\n",
    "\n",
    "print(f\"df_cards - Tamanho DEPOIS: {df_cards.memory_usage(deep=True).sum() / 1024**2:.2f} MB\")\n",
    "print(f\"Novos DTypes de df_cards:\\n{df_cards.dtypes}\")"
   ]
  },
  {
   "cell_type": "code",
   "execution_count": 56,
   "id": "6d88616f",
   "metadata": {},
   "outputs": [
    {
     "data": {
      "text/plain": [
       "['client_id',\n",
       " 'current_age',\n",
       " 'retirement_age',\n",
       " 'birth_year',\n",
       " 'birth_month',\n",
       " 'gender',\n",
       " 'address',\n",
       " 'latitude',\n",
       " 'longitude',\n",
       " 'per_capita_income',\n",
       " 'yearly_income',\n",
       " 'total_debt',\n",
       " 'credit_score',\n",
       " 'num_credit_cards']"
      ]
     },
     "execution_count": 56,
     "metadata": {},
     "output_type": "execute_result"
    }
   ],
   "source": [
    "df_users.columns.to_list()\n",
    "\n",
    "df_users = df_users.rename(columns={'id': 'client_id'})\n",
    "df_users.columns.to_list()\n"
   ]
  },
  {
   "cell_type": "code",
   "execution_count": 57,
   "id": "2619284c",
   "metadata": {},
   "outputs": [
    {
     "name": "stdout",
     "output_type": "stream",
     "text": [
      "df_users - Tamanho ANTES: 0.34 MB\n",
      "df_users - Tamanho DEPOIS: 0.23 MB\n",
      "Novos DTypes de df_users:\n",
      "client_id               int32\n",
      "current_age              int8\n",
      "retirement_age           int8\n",
      "birth_year              int16\n",
      "birth_month              int8\n",
      "gender               category\n",
      "address              category\n",
      "latitude              float32\n",
      "longitude             float32\n",
      "per_capita_income       int32\n",
      "yearly_income           int32\n",
      "total_debt              int32\n",
      "credit_score            int16\n",
      "num_credit_cards         int8\n",
      "dtype: object\n"
     ]
    }
   ],
   "source": [
    "df_users.dtypes\n",
    "\n",
    "\n",
    "\n",
    "print(f\"df_users - Tamanho ANTES: {df_users.memory_usage(deep=True).sum() / 1024**2:.2f} MB\")\n",
    "\n",
    "user_dtype_map = {\n",
    "    'client_id': 'int32',\n",
    "    \n",
    "    'current_age': 'int8',\n",
    "    'retirement_age': 'int8',\n",
    "    'birth_month': 'int8',\n",
    "    'num_credit_cards': 'int8',\n",
    "    'birth_year': 'int16',\n",
    "    'credit_score': 'int16',\n",
    "    \n",
    "    'per_capita_income': 'int32',\n",
    "    'yearly_income': 'int32',\n",
    "    'total_debt': 'int32',\n",
    "    \n",
    "    'latitude': 'float32',\n",
    "    'longitude': 'float32',\n",
    "    \n",
    "    'gender': 'category',\n",
    "    'address': 'category', \n",
    "}\n",
    "\n",
    "df_users = df_users.astype(user_dtype_map)\n",
    "\n",
    "print(f\"df_users - Tamanho DEPOIS: {df_users.memory_usage(deep=True).sum() / 1024**2:.2f} MB\")\n",
    "print(f\"Novos DTypes de df_users:\\n{df_users.dtypes}\")"
   ]
  },
  {
   "cell_type": "code",
   "execution_count": 58,
   "id": "3cd7441c",
   "metadata": {},
   "outputs": [
    {
     "data": {
      "text/plain": [
       "['MCC_Code', 'Description']"
      ]
     },
     "execution_count": 58,
     "metadata": {},
     "output_type": "execute_result"
    }
   ],
   "source": [
    "df_mcc.columns.to_list()"
   ]
  },
  {
   "cell_type": "code",
   "execution_count": 59,
   "id": "543902c6",
   "metadata": {},
   "outputs": [
    {
     "data": {
      "text/plain": [
       "MCC_Code        int64\n",
       "Description    object\n",
       "dtype: object"
      ]
     },
     "execution_count": 59,
     "metadata": {},
     "output_type": "execute_result"
    }
   ],
   "source": [
    "df_mcc.dtypes"
   ]
  },
  {
   "cell_type": "code",
   "execution_count": 60,
   "id": "a3db71bd",
   "metadata": {},
   "outputs": [
    {
     "name": "stdout",
     "output_type": "stream",
     "text": [
      "df_mcc - Tamanho ANTES: 0.01 MB\n",
      "df_mcc - Tamanho DEPOIS: 0.01 MB\n",
      "Novos DTypes de df_mcc:\n",
      "MCC_Code          int16\n",
      "Description    category\n",
      "dtype: object\n"
     ]
    }
   ],
   "source": [
    "print(f\"df_mcc - Tamanho ANTES: {df_mcc.memory_usage(deep=True).sum() / 1024**2:.2f} MB\")\n",
    "\n",
    "mcc_dtype_map = {\n",
    "    # ID otimizado para o menor tipo possível\n",
    "    'MCC_Code': 'int16', \n",
    "    \n",
    "    # String para Categoria\n",
    "    'Description': 'category'\n",
    "}\n",
    "\n",
    "# Aplicar a conversão\n",
    "df_mcc = df_mcc.astype(mcc_dtype_map)\n",
    "\n",
    "print(f\"df_mcc - Tamanho DEPOIS: {df_mcc.memory_usage(deep=True).sum() / 1024**2:.2f} MB\")\n",
    "print(f\"Novos DTypes de df_mcc:\\n{df_mcc.dtypes}\")"
   ]
  },
  {
   "cell_type": "code",
   "execution_count": 61,
   "id": "41c9ab5b",
   "metadata": {},
   "outputs": [],
   "source": [
    "df_mcc = df_mcc.rename(columns={'MCC_Code': 'mcc'})"
   ]
  },
  {
   "cell_type": "code",
   "execution_count": 62,
   "id": "396eaec3",
   "metadata": {},
   "outputs": [
    {
     "data": {
      "text/html": [
       "<div>\n",
       "<style scoped>\n",
       "    .dataframe tbody tr th:only-of-type {\n",
       "        vertical-align: middle;\n",
       "    }\n",
       "\n",
       "    .dataframe tbody tr th {\n",
       "        vertical-align: top;\n",
       "    }\n",
       "\n",
       "    .dataframe thead th {\n",
       "        text-align: right;\n",
       "    }\n",
       "</style>\n",
       "<table border=\"1\" class=\"dataframe\">\n",
       "  <thead>\n",
       "    <tr style=\"text-align: right;\">\n",
       "      <th></th>\n",
       "      <th>mcc</th>\n",
       "      <th>Description</th>\n",
       "    </tr>\n",
       "  </thead>\n",
       "  <tbody>\n",
       "    <tr>\n",
       "      <th>0</th>\n",
       "      <td>5812</td>\n",
       "      <td>Eating Places and Restaurants</td>\n",
       "    </tr>\n",
       "    <tr>\n",
       "      <th>1</th>\n",
       "      <td>5541</td>\n",
       "      <td>Service Stations</td>\n",
       "    </tr>\n",
       "    <tr>\n",
       "      <th>2</th>\n",
       "      <td>7996</td>\n",
       "      <td>Amusement Parks, Carnivals, Circuses</td>\n",
       "    </tr>\n",
       "    <tr>\n",
       "      <th>3</th>\n",
       "      <td>5411</td>\n",
       "      <td>Grocery Stores, Supermarkets</td>\n",
       "    </tr>\n",
       "    <tr>\n",
       "      <th>4</th>\n",
       "      <td>4784</td>\n",
       "      <td>Tolls and Bridge Fees</td>\n",
       "    </tr>\n",
       "    <tr>\n",
       "      <th>...</th>\n",
       "      <td>...</td>\n",
       "      <td>...</td>\n",
       "    </tr>\n",
       "    <tr>\n",
       "      <th>104</th>\n",
       "      <td>7549</td>\n",
       "      <td>Towing Services</td>\n",
       "    </tr>\n",
       "    <tr>\n",
       "      <th>105</th>\n",
       "      <td>5941</td>\n",
       "      <td>Sporting Goods Stores</td>\n",
       "    </tr>\n",
       "    <tr>\n",
       "      <th>106</th>\n",
       "      <td>5722</td>\n",
       "      <td>Household Appliance Stores</td>\n",
       "    </tr>\n",
       "    <tr>\n",
       "      <th>107</th>\n",
       "      <td>3009</td>\n",
       "      <td>Fabricated Structural Metal Products</td>\n",
       "    </tr>\n",
       "    <tr>\n",
       "      <th>108</th>\n",
       "      <td>5733</td>\n",
       "      <td>Music Stores - Musical Instruments</td>\n",
       "    </tr>\n",
       "  </tbody>\n",
       "</table>\n",
       "<p>109 rows × 2 columns</p>\n",
       "</div>"
      ],
      "text/plain": [
       "      mcc                           Description\n",
       "0    5812         Eating Places and Restaurants\n",
       "1    5541                      Service Stations\n",
       "2    7996  Amusement Parks, Carnivals, Circuses\n",
       "3    5411          Grocery Stores, Supermarkets\n",
       "4    4784                 Tolls and Bridge Fees\n",
       "..    ...                                   ...\n",
       "104  7549                       Towing Services\n",
       "105  5941                 Sporting Goods Stores\n",
       "106  5722            Household Appliance Stores\n",
       "107  3009  Fabricated Structural Metal Products\n",
       "108  5733    Music Stores - Musical Instruments\n",
       "\n",
       "[109 rows x 2 columns]"
      ]
     },
     "execution_count": 62,
     "metadata": {},
     "output_type": "execute_result"
    }
   ],
   "source": [
    "df_mcc"
   ]
  },
  {
   "cell_type": "code",
   "execution_count": 63,
   "id": "a9e2cb87",
   "metadata": {},
   "outputs": [
    {
     "data": {
      "text/plain": [
       "['id', 'Target']"
      ]
     },
     "execution_count": 63,
     "metadata": {},
     "output_type": "execute_result"
    }
   ],
   "source": [
    "df_fraud_labels.columns.to_list()"
   ]
  },
  {
   "cell_type": "code",
   "execution_count": 64,
   "id": "76b24d9d",
   "metadata": {},
   "outputs": [
    {
     "data": {
      "text/plain": [
       "Target\n",
       "No     8901631\n",
       "Yes      13332\n",
       "Name: count, dtype: int64"
      ]
     },
     "execution_count": 64,
     "metadata": {},
     "output_type": "execute_result"
    }
   ],
   "source": [
    "df_fraud_labels.Target.value_counts()"
   ]
  },
  {
   "cell_type": "code",
   "execution_count": 65,
   "id": "8be83acb",
   "metadata": {},
   "outputs": [
    {
     "name": "stdout",
     "output_type": "stream",
     "text": [
      "df_fraud_labels - Tamanho ANTES: 501.63 MB\n",
      "df_fraud_labels - Tamanho DEPOIS: 42.51 MB\n",
      "Novos DTypes de df_fraud_labels:\n",
      "id           int32\n",
      "Target    category\n",
      "dtype: object\n"
     ]
    }
   ],
   "source": [
    "df_fraud_labels.dtypes\n",
    "\n",
    "print(f\"df_fraud_labels - Tamanho ANTES: {df_fraud_labels.memory_usage(deep=True).sum() / 1024**2:.2f} MB\")\n",
    "\n",
    "fraud_dtype_map = {\n",
    "    'id': 'int32', \n",
    "    \n",
    "    'Target': 'category' \n",
    "}\n",
    "\n",
    "df_fraud_labels = df_fraud_labels.astype(fraud_dtype_map)\n",
    "\n",
    "print(f\"df_fraud_labels - Tamanho DEPOIS: {df_fraud_labels.memory_usage(deep=True).sum() / 1024**2:.2f} MB\")\n",
    "print(f\"Novos DTypes de df_fraud_labels:\\n{df_fraud_labels.dtypes}\")\n"
   ]
  },
  {
   "cell_type": "code",
   "execution_count": 66,
   "id": "20764e1f",
   "metadata": {},
   "outputs": [],
   "source": [
    "df_fraud_labels = df_fraud_labels.rename(columns={\"id\": \"transaction_id\"})"
   ]
  },
  {
   "cell_type": "code",
   "execution_count": 67,
   "id": "44a8c002",
   "metadata": {},
   "outputs": [
    {
     "data": {
      "text/plain": [
       "Index(['transaction_id', 'Target'], dtype='object')"
      ]
     },
     "execution_count": 67,
     "metadata": {},
     "output_type": "execute_result"
    }
   ],
   "source": [
    "df_fraud_labels.columns"
   ]
  },
  {
   "cell_type": "markdown",
   "id": "5619478e",
   "metadata": {},
   "source": [
    "# Fazendo o merge"
   ]
  },
  {
   "cell_type": "code",
   "execution_count": 68,
   "id": "9df29835",
   "metadata": {},
   "outputs": [
    {
     "data": {
      "text/plain": [
       "['transaction_id',\n",
       " 'date',\n",
       " 'client_id_tran',\n",
       " 'card_id',\n",
       " 'amount',\n",
       " 'use_chip',\n",
       " 'merchant_id',\n",
       " 'merchant_city',\n",
       " 'merchant_state',\n",
       " 'zip',\n",
       " 'mcc',\n",
       " 'errors',\n",
       " 'client_id_card',\n",
       " 'card_brand',\n",
       " 'card_type',\n",
       " 'card_number',\n",
       " 'expires',\n",
       " 'cvv',\n",
       " 'has_chip',\n",
       " 'num_cards_issued',\n",
       " 'credit_limit',\n",
       " 'acct_open_date',\n",
       " 'year_pin_last_changed',\n",
       " 'card_on_dark_web']"
      ]
     },
     "execution_count": 68,
     "metadata": {},
     "output_type": "execute_result"
    }
   ],
   "source": [
    "merged = pd.merge(\n",
    "    left=df_transactions,\n",
    "    right=df_cards,\n",
    "    how='left',\n",
    "    on='card_id',\n",
    "    suffixes=('_tran', \"_card\")\n",
    ")\n",
    "\n",
    "merged.columns.to_list()"
   ]
  },
  {
   "cell_type": "code",
   "execution_count": null,
   "id": "88f8488e",
   "metadata": {},
   "outputs": [],
   "source": [
    "merged = merged.drop(columns=['client_id_card'])\n",
    "merged - merged.rename(columns={'client_id_tran': 'client_id'})\n",
    "\n",
    "merged_transactions_cards_users = pd.merge(\n",
    "    left=merged,\n",
    "    right=df_users,\n",
    "    how='left',\n",
    "    on='client_id',\n",
    "    suffixes=('_card', \"_user\")\n",
    ")"
   ]
  },
  {
   "cell_type": "code",
   "execution_count": null,
   "id": "e386f0dc",
   "metadata": {},
   "outputs": [],
   "source": [
    "df_transactions_cards_users_mcc= pd.merge(\n",
    "    left=merged_transactions_cards_users,\n",
    "    right=df_mcc,\n",
    "    how='left',\n",
    "    on='mcc',\n",
    "    suffixes=('_final', '_mcc')\n",
    ")\n",
    "\n",
    "if 'Description' in df_transactions_cards_users_mcc.columns:\n",
    "    df_final = df_transactions_cards_users_mcc.rename(columns={'Description': 'mcc_description'})"
   ]
  },
  {
   "cell_type": "code",
   "execution_count": null,
   "id": "1c3d28ac",
   "metadata": {},
   "outputs": [],
   "source": [
    "print(\"4/4: Realizando merge com df_fraud_labels (Chave: transaction_id)...\")\n",
    "\n",
    "df_final = pd.merge(\n",
    "    left=df_final,\n",
    "    right=df_fraud_labels,\n",
    "    how='left',\n",
    "    on='transaction_id',\n",
    "    suffixes=('_base', '_fraud')\n",
    ")\n",
    "\n",
    "print(\"\\n--- Tabela Única Finalizada! ---\")\n",
    "print(f\"Total de linhas na Tabela Única: {len(df_final)}\")\n",
    "print(f\"Total de colunas: {len(df_final.columns)}\")\n",
    "print(\"O DataFrame (df_final) agora contém transações, cartões, usuários, MCC e o rótulo de fraude. Pronto para o PostgreSQL!\")"
   ]
  },
  {
   "cell_type": "markdown",
   "id": "5faebcfd",
   "metadata": {},
   "source": [
    "## Guardando os dados analisados"
   ]
  },
  {
   "cell_type": "code",
   "execution_count": 69,
   "id": "c8268422",
   "metadata": {},
   "outputs": [
    {
     "data": {
      "text/plain": [
       "((6146, 13), (12253396, 12), (1597, 14), (109, 2), (8914963, 2))"
      ]
     },
     "execution_count": 69,
     "metadata": {},
     "output_type": "execute_result"
    }
   ],
   "source": [
    "df_cards.shape, df_transactions.shape, df_users.shape, df_mcc.shape, df_fraud_labels.shape"
   ]
  }
 ],
 "metadata": {
  "kernelspec": {
   "display_name": "venv",
   "language": "python",
   "name": "python3"
  },
  "language_info": {
   "codemirror_mode": {
    "name": "ipython",
    "version": 3
   },
   "file_extension": ".py",
   "mimetype": "text/x-python",
   "name": "python",
   "nbconvert_exporter": "python",
   "pygments_lexer": "ipython3",
   "version": "3.12.1"
  }
 },
 "nbformat": 4,
 "nbformat_minor": 5
}
